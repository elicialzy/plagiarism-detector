{
 "cells": [
  {
   "cell_type": "code",
   "execution_count": 1,
   "metadata": {},
   "outputs": [
    {
     "name": "stdout",
     "output_type": "stream",
     "text": [
      "Loading function\n"
     ]
    }
   ],
   "source": [
    "from plagiarism_detector import lambda_handler\n",
    "from compiled_functions import *"
   ]
  },
  {
   "cell_type": "code",
   "execution_count": 3,
   "metadata": {},
   "outputs": [],
   "source": [
    "event = {\n",
    "    \"matching_type\": \"1-1\",\n",
    "      \"input_doc_name\": \"input_file_4481\",\n",
    "      \"input_doc\": \"The castle is still so far perfect that the lower part is inhabited by a farmer's family; from the windows of the castle four others are visible, none of them more than two miles from each other; and a very large cromlech is within a few yards of the castle ditch. Though somewhat surprised at his request, the Irish chieftains immediately complied with it, and the young men were slain. Then the old warrior exclaimed, \\\"Fools, I saw that your threats and your promises were beginning to influence my sons; for they were but boys, and might have yielded: but now the secret is safe, your threats or your promises have no effect on me!\\\"\",\n",
    "      \"source_docs\": [\n",
    "        {\n",
    "          \"source_doc_name\": \"source_file_4481\",\n",
    "          \"source_doc\": \"Castle is still as perfect as the bottom is inhabited by a farmer family, and in some rooms above are still remaining heavy smoke, pieces of gray limestone, a very modern form, horizontal sections are decorated with a quatrefoil ornament engraved in a circle, but no data or flags: the other four windows of the castle are visible, none of them more than two miles from each other, and a large cromlech is a few yards from the castle moat. The following legend is related to the castle. Although somewhat surprised at his request, met with immediate Irish chiefs he and young people were killed. Then old warrior exclaimed: \\\"I saw crazy, Your threats and promises That you began to influence my children, for they were but boys, and should be given: but now the secret is safe, your threats or promises have no effect on me!\\\"\"\n",
    "        },\n",
    "        {\n",
    "          \"source_doc_name\": \"source_file_4482\",\n",
    "          \"source_doc\": \"Castle is still as perfect as the bottom is inhabited by a farmer family, and in some rooms above are still remaining heavy smoke, pieces of gray limestone, a very modern form, horizontal sections are decorated with a quatrefoil ornament engraved in a circle, but no data or flags: the other four windows of the castle are visible, none of them more than two miles from each other, and a large cromlech is a few yards from the castle moat. The following legend is related to the castle. Although somewhat surprised at his request, met with immediate Irish chiefs he and young people were killed. Then old warrior exclaimed: \\\"I saw crazy, Your threats and promises That you began to influence my children, for they were but boys, and should be given: but now the secret is safe, your threats or promises have no effect on me!\\\"\"\n",
    "        }\n",
    "      ]\n",
    "}"
   ]
  },
  {
   "cell_type": "code",
   "execution_count": 5,
   "metadata": {},
   "outputs": [
    {
     "data": {
      "text/plain": [
       "{'input_doc_name': 'input_file_4481',\n",
       " 'plagiarism_flag': 0,\n",
       " 'plagiarism_score': 0.3966290365033661,\n",
       " 'plagiarised_text': [{'sentence': \"The castle is still so far perfect that the lower part is inhabited by a farmer's family; from the windows of the castle four others are visible, none of them more than two miles from each other; and a very large cromlech is within a few yards of the castle ditch\",\n",
       "   'start_char_index': 1,\n",
       "   'end_char_index': 263,\n",
       "   'source_sentence': 'others are visible, none of them more than two miles from each other; and a very large cromlech within',\n",
       "   'source_doc_name': 'source_file_4481',\n",
       "   'score': 0.7532444928234143},\n",
       "  {'sentence': 'Though somewhat surprised at his request, the Irish chieftains immediately complied with it, and the young men were slain',\n",
       "   'start_char_index': 264,\n",
       "   'end_char_index': 384,\n",
       "   'source_sentence': 'Although somewhat surprised at his request, met with immediate Irish chiefs he and young people were killed',\n",
       "   'source_doc_name': 'source_file_4481',\n",
       "   'score': 0.769335150718689},\n",
       "  {'sentence': 'Then the old warrior exclaimed, \"Fools, I saw that your threats and your promises were beginning to influence my sons; for they were but boys, and might have yielded: but now the secret is safe, your threats or your promises have no effect on me',\n",
       "   'start_char_index': 385,\n",
       "   'end_char_index': 629,\n",
       "   'source_sentence': 'Then old warrior exclaimed: \"I saw crazy, Your threats and promises That you began to influence my children, for they were but boys, and should be given: but now the secret is safe, your threats or promises have no effect on me',\n",
       "   'source_doc_name': 'source_file_4481',\n",
       "   'score': 0.9587375521659851},\n",
       "  {'sentence': \"The castle is still so far perfect that the lower part is inhabited by a farmer's family; from the windows of the castle four others are visible, none of them more than two miles from each other; and a very large cromlech is within a few yards of the castle ditch\",\n",
       "   'start_char_index': 1,\n",
       "   'end_char_index': 263,\n",
       "   'source_sentence': 'others are visible, none of them more than two miles from each other; and a very large cromlech within',\n",
       "   'source_doc_name': 'source_file_4482',\n",
       "   'score': 0.7532444928234143},\n",
       "  {'sentence': 'Though somewhat surprised at his request, the Irish chieftains immediately complied with it, and the young men were slain',\n",
       "   'start_char_index': 264,\n",
       "   'end_char_index': 384,\n",
       "   'source_sentence': 'Although somewhat surprised at his request, met with immediate Irish chiefs he and young people were killed',\n",
       "   'source_doc_name': 'source_file_4482',\n",
       "   'score': 0.769335150718689},\n",
       "  {'sentence': 'Then the old warrior exclaimed, \"Fools, I saw that your threats and your promises were beginning to influence my sons; for they were but boys, and might have yielded: but now the secret is safe, your threats or your promises have no effect on me',\n",
       "   'start_char_index': 385,\n",
       "   'end_char_index': 629,\n",
       "   'source_sentence': 'Then old warrior exclaimed: \"I saw crazy, Your threats and promises That you began to influence my children, for they were but boys, and should be given: but now the secret is safe, your threats or promises have no effect on me',\n",
       "   'source_doc_name': 'source_file_4482',\n",
       "   'score': 0.9587375521659851}]}"
      ]
     },
     "execution_count": 5,
     "metadata": {},
     "output_type": "execute_result"
    }
   ],
   "source": [
    "source_docs = event['source_docs']\n",
    "input_doc_name = event['input_doc_name']\n",
    "input_doc = event['input_doc']\n",
    "\n",
    "get_one_many_matching_output(sentbert_model_name, final_model_name, ngrams_lst, source_docs, input_doc, input_doc_name)"
   ]
  },
  {
   "cell_type": "code",
   "execution_count": 64,
   "metadata": {},
   "outputs": [
    {
     "data": {
      "text/plain": [
       "'[{\"input_doc_name\": \"input_file_4481\", \"plagiarism_flag\": \"0\", \"plagiarism_score\": 0.3966290365033661, \"plagiarised_text\": [{\"sentence\": \"The castle is still so far perfect that the lower part is inhabited by a farmer\\'s family; from the windows of the castle four others are visible, none of them more than two miles from each other; and a very large cromlech is within a few yards of the castle ditch\", \"start_char_index\": 1, \"end_char_index\": 263, \"source_sentence\": \"others are visible, none of them more than two miles from each other; and a very large cromlech within\", \"source_doc_name\": \"source_file_4481\", \"score\": 0.7532444928234143}, {\"sentence\": \"Though somewhat surprised at his request, the Irish chieftains immediately complied with it, and the young men were slain\", \"start_char_index\": 264]'"
      ]
     },
     "execution_count": 64,
     "metadata": {},
     "output_type": "execute_result"
    }
   ],
   "source": [
    "import json\n",
    "\n",
    "event = {\"body\": \"[{\\\"input_doc_name\\\": \\\"input_file_4481\\\", \\\"plagiarism_flag\\\": \\\"0\\\", \\\"plagiarism_score\\\": 0.3966290365033661, \\\"plagiarised_text\\\": [{\\\"sentence\\\": \\\"The castle is still so far perfect that the lower part is inhabited by a farmer's family; from the windows of the castle four others are visible, none of them more than two miles from each other; and a very large cromlech is within a few yards of the castle ditch\\\", \\\"start_char_index\\\": 1, \\\"end_char_index\\\": 263, \\\"source_sentence\\\": \\\"others are visible, none of them more than two miles from each other; and a very large cromlech within\\\", \\\"source_doc_name\\\": \\\"source_file_4481\\\", \\\"score\\\": 0.7532444928234143}, {\\\"sentence\\\": \\\"Though somewhat surprised at his request, the Irish chieftains immediately complied with it, and the young men were slain\\\", \\\"start_char_index\\\": 264]\"}\n",
    "\n",
    "event_dict = json.dumps(event)\n",
    "request_body = json.loads(event_dict)['body']\n",
    "request_body"
   ]
  },
  {
   "cell_type": "code",
   "execution_count": 95,
   "metadata": {},
   "outputs": [
    {
     "data": {
      "text/plain": [
       "'1-1'"
      ]
     },
     "execution_count": 95,
     "metadata": {},
     "output_type": "execute_result"
    }
   ],
   "source": [
    "request_body = {'matching_type': '1-1', 'input_doc_name': 'input_file_4481', 'input_doc': 'The castle is still so far perfect that the lower part is inhabited by a farmer\\'s family; from the windows of the castle four others are visible, none of them more than two miles from each other; and a very large cromlech is within a few yards of the castle ditch. Though somewhat surprised at his request, the Irish chieftains immediately complied with it, and the young men were slain. Then the old warrior exclaimed, \"Fools, I saw that your threats and your promises were beginning to influence my sons; for they were but boys, and might have yielded: but now the secret is safe, your threats or your promises have no effect on me!\"', 'source_docs': [{'source_doc_name': 'source_file_4481', 'source_doc': 'Castle is still as perfect as the bottom is inhabited by a farmer family, and in some rooms above are still remaining heavy smoke, pieces of gray limestone, a very modern form, horizontal sections are decorated with a quatrefoil ornament engraved in a circle, but no data or flags: the other four windows of the castle are visible, none of them more than two miles from each other, and a large cromlech is a few yards from the castle moat. The following legend is related to the castle. Although somewhat surprised at his request, met with immediate Irish chiefs he and young people were killed. Then old warrior exclaimed: \"I saw crazy, Your threats and promises That you began to influence my children, for they were but boys, and should be given: but now the secret is safe, your threats or promises have no effect on me!\"'}, {'source_doc_name': 'source_file_4482', 'source_doc': 'Castle is still as perfect as the bottom is inhabited by a farmer family, and in some rooms above are still remaining heavy smoke, pieces of gray limestone, a very modern form, horizontal sections are decorated with a quatrefoil ornament engraved in a circle, but no data or flags: the other four windows of the castle are visible, none of them more than two miles from each other, and a large cromlech is a few yards from the castle moat. The following legend is related to the castle. Although somewhat surprised at his request, met with immediate Irish chiefs he and young people were killed. Then old warrior exclaimed: \"I saw crazy, Your threats and promises That you began to influence my children, for they were but boys, and should be given: but now the secret is safe, your threats or promises have no effect on me!\"'}]}\n",
    "\n",
    "request_body['matching_type']"
   ]
  },
  {
   "cell_type": "code",
   "execution_count": 5,
   "metadata": {},
   "outputs": [
    {
     "ename": "KeyError",
     "evalue": "'queryStringParameters'",
     "output_type": "error",
     "traceback": [
      "\u001b[0;31m---------------------------------------------------------------------------\u001b[0m",
      "\u001b[0;31mKeyError\u001b[0m                                  Traceback (most recent call last)",
      "Cell \u001b[0;32mIn[5], line 20\u001b[0m\n\u001b[1;32m      1\u001b[0m event \u001b[39m=\u001b[39m {\n\u001b[1;32m      2\u001b[0m     \u001b[39m\"\u001b[39m\u001b[39minput_doc_name\u001b[39m\u001b[39m\"\u001b[39m: \u001b[39m\"\u001b[39m\u001b[39minput_string_name\u001b[39m\u001b[39m\"\u001b[39m,\n\u001b[1;32m      3\u001b[0m     \u001b[39m\"\u001b[39m\u001b[39minput_doc\u001b[39m\u001b[39m\"\u001b[39m: \u001b[39m\"\u001b[39m\u001b[39mPride Russians suffered accordingly.  While naturally precedes dramatic art poetry, drama, on the other hand, can achieve a degree of excellence where the theater is in a miserable state. It is now barely half a century from the beginning was an effort to remove all the lack of scientific culture in the Russian nation, but what are fifty years for such purpose, in a country so huge? The number of received scientific stimulus and was carried to a degree of intellectual sophistication is very low, and a happy accident that is genius among the small number must be very rare. And in this respect, it is noteworthy that the Russians who feels called to the artistic production almost always show a trend of view of epic composition.  Difficulties as the Russian seem terrible. In love, written as he embarrasses less and therefore have almost all the throws in the making of novels.  As is generally the case in the early literature of every nation, every writer in Russia is taken for a miracle, and looked with astonishment. Kukolnik playwright is an example. He wrote a good deal for the theater, but nothing is as it should be praised as much as his zeal in imitation. It must be admitted that in this he possesses a remarkable degree of dexterity. He soon became the area\u001b[39m\u001b[39m'\u001b[39m\u001b[39ms favorite love, but this also he shows weakness at the national level. In each of his numerous works the most striking feature is the lack of organization. They were completed with no beginning and author ever thought a plot, or mode of treatment\u001b[39m\u001b[39m\"\u001b[39m,\n\u001b[0;32m   (...)\u001b[0m\n\u001b[1;32m     15\u001b[0m     \u001b[39m\"\u001b[39m\u001b[39mmatching_type\u001b[39m\u001b[39m\"\u001b[39m: \u001b[39m\"\u001b[39m\u001b[39m1-many\u001b[39m\u001b[39m\"\u001b[39m\n\u001b[1;32m     16\u001b[0m }\n\u001b[1;32m     18\u001b[0m context \u001b[39m=\u001b[39m \u001b[39m'\u001b[39m\u001b[39m'\u001b[39m\n\u001b[0;32m---> 20\u001b[0m many_response \u001b[39m=\u001b[39m lambda_handler(event, context)\n",
      "File \u001b[0;32m~/Desktop/BT4103/github/plagiarism-detector/app/plagiarism_detector.py:18\u001b[0m, in \u001b[0;36mlambda_handler\u001b[0;34m(event, context)\u001b[0m\n\u001b[1;32m     15\u001b[0m response_object[\u001b[39m'\u001b[39m\u001b[39mheaders\u001b[39m\u001b[39m'\u001b[39m] \u001b[39m=\u001b[39m {}\n\u001b[1;32m     16\u001b[0m response_object[\u001b[39m'\u001b[39m\u001b[39mheaders\u001b[39m\u001b[39m'\u001b[39m][\u001b[39m'\u001b[39m\u001b[39mContent-Type\u001b[39m\u001b[39m'\u001b[39m] \u001b[39m=\u001b[39m \u001b[39m'\u001b[39m\u001b[39mapplication/json\u001b[39m\u001b[39m'\u001b[39m\n\u001b[0;32m---> 18\u001b[0m input_doc \u001b[39m=\u001b[39m event[\u001b[39m'\u001b[39;49m\u001b[39mqueryStringParameters\u001b[39;49m\u001b[39m'\u001b[39;49m][\u001b[39m'\u001b[39m\u001b[39minput_doc\u001b[39m\u001b[39m'\u001b[39m]\n\u001b[1;32m     19\u001b[0m input_doc_name \u001b[39m=\u001b[39m event[\u001b[39m'\u001b[39m\u001b[39mqueryStringParameters\u001b[39m\u001b[39m'\u001b[39m][\u001b[39m'\u001b[39m\u001b[39minput_doc_name\u001b[39m\u001b[39m'\u001b[39m]\n\u001b[1;32m     20\u001b[0m source_docs \u001b[39m=\u001b[39m event[\u001b[39m'\u001b[39m\u001b[39mqueryStringParameters\u001b[39m\u001b[39m'\u001b[39m][\u001b[39m'\u001b[39m\u001b[39msource_docs\u001b[39m\u001b[39m'\u001b[39m]\n",
      "\u001b[0;31mKeyError\u001b[0m: 'queryStringParameters'"
     ]
    }
   ],
   "source": [
    "event = {\n",
    "    \"input_doc_name\": \"input_string_name\",\n",
    "    \"input_doc\": \"Pride Russians suffered accordingly.  While naturally precedes dramatic art poetry, drama, on the other hand, can achieve a degree of excellence where the theater is in a miserable state. It is now barely half a century from the beginning was an effort to remove all the lack of scientific culture in the Russian nation, but what are fifty years for such purpose, in a country so huge? The number of received scientific stimulus and was carried to a degree of intellectual sophistication is very low, and a happy accident that is genius among the small number must be very rare. And in this respect, it is noteworthy that the Russians who feels called to the artistic production almost always show a trend of view of epic composition.  Difficulties as the Russian seem terrible. In love, written as he embarrasses less and therefore have almost all the throws in the making of novels.  As is generally the case in the early literature of every nation, every writer in Russia is taken for a miracle, and looked with astonishment. Kukolnik playwright is an example. He wrote a good deal for the theater, but nothing is as it should be praised as much as his zeal in imitation. It must be admitted that in this he possesses a remarkable degree of dexterity. He soon became the area's favorite love, but this also he shows weakness at the national level. In each of his numerous works the most striking feature is the lack of organization. They were completed with no beginning and author ever thought a plot, or mode of treatment\",\n",
    "    \"source_docs\": [\n",
    "        {\n",
    "        \"source_doc_name\": \"Russian source 1\",\n",
    "        \"source_doc\": \"achieve degree of excellence where the theater is in a miserable state\"\n",
    "        },\n",
    "\n",
    "        {\n",
    "        \"source_doc\": \"achieve degree of excellence where the theater is in a miserable state\",\n",
    "        \"source_doc_name\": \"Russian source 2\",\n",
    "        }\n",
    "    ],\n",
    "    \"matching_type\": \"1-many\"\n",
    "}\n",
    "\n",
    "context = ''\n",
    "\n",
    "many_response = lambda_handler(event, context)"
   ]
  },
  {
   "cell_type": "code",
   "execution_count": 3,
   "metadata": {},
   "outputs": [
    {
     "data": {
      "text/plain": [
       "{'headers': {'Content-Type': 'application/json'},\n",
       " 'statusCode': 200,\n",
       " 'success': True,\n",
       " 'body': {'input_doc_name': 'input_string_name',\n",
       "  'plagiarism_flag': '0',\n",
       "  'plagiarism_score': 0.30969695066252084,\n",
       "  'plagiarised_text': [{'sentence': 'While naturally precedes dramatic art poetry, drama, on the other hand, can achieve a degree of excellence where the theater is in a miserable state',\n",
       "    'start_char_index': 36,\n",
       "    'end_char_index': 183,\n",
       "    'source_sentence': 'hand achieve a degree of excellence where the theater is in a miserable state ',\n",
       "    'source_doc_name': 'Russian source 1',\n",
       "    'score': 0.9207401897413285},\n",
       "   {'sentence': 'While naturally precedes dramatic art poetry, drama, on the other hand, can achieve a degree of excellence where the theater is in a miserable state',\n",
       "    'start_char_index': 36,\n",
       "    'end_char_index': 183,\n",
       "    'source_sentence': 'hand achieve a degree of excellence where the theater is in a miserable state ',\n",
       "    'source_doc_name': 'Russian source 2',\n",
       "    'score': 0.9207401897413285}]}}"
      ]
     },
     "execution_count": 3,
     "metadata": {},
     "output_type": "execute_result"
    }
   ],
   "source": [
    "many_response"
   ]
  },
  {
   "cell_type": "code",
   "execution_count": 4,
   "metadata": {},
   "outputs": [
    {
     "name": "stdout",
     "output_type": "stream",
     "text": [
      "-0.007701870985329151\n",
      "0.2842426598072052\n",
      "0.9999999403953552\n",
      "0.4123450219631195\n",
      "0.3655587136745453\n",
      "0.15808069705963135\n",
      "0.1654045581817627\n",
      "0.5466952323913574\n",
      "-0.021073833107948303\n",
      "0.3044346868991852\n",
      "0.10668475925922394\n",
      "0.27875757217407227\n",
      "0.26631367206573486\n",
      "0.26034072041511536\n"
     ]
    }
   ],
   "source": [
    "event = {\n",
    "    \"input_doc_name\": \"input_string_name\",\n",
    "    \"input_doc\": \"Pride Russians suffered accordingly.  While naturally precedes dramatic art poetry, drama, on the other hand, can achieve a degree of excellence where the theater is in a miserable state. It is now barely half a century from the beginning was an effort to remove all the lack of scientific culture in the Russian nation, but what are fifty years for such purpose, in a country so huge? The number of received scientific stimulus and was carried to a degree of intellectual sophistication is very low, and a happy accident that is genius among the small number must be very rare. And in this respect, it is noteworthy that the Russians who feels called to the artistic production almost always show a trend of view of epic composition.  Difficulties as the Russian seem terrible. In love, written as he embarrasses less and therefore have almost all the throws in the making of novels.  As is generally the case in the early literature of every nation, every writer in Russia is taken for a miracle, and looked with astonishment. Kukolnik playwright is an example. He wrote a good deal for the theater, but nothing is as it should be praised as much as his zeal in imitation. It must be admitted that in this he possesses a remarkable degree of dexterity. He soon became the area's favorite love, but this also he shows weakness at the national level. In each of his numerous works the most striking feature is the lack of organization. They were completed with no beginning and author ever thought a plot, or mode of treatment\",\n",
    "    \"source_docs\": [\n",
    "        {\n",
    "        \"source_doc_name\": \"Russian source 1\",\n",
    "        \"source_doc\": \"It is now barely half a century from the beginning was an effort to remove all the lack of scientific culture in the Russian nation, but what are fifty years for such purpose, in a country so huge\"\n",
    "        },\n",
    "\n",
    "        {\n",
    "        \"source_doc\": \"achieve degree of excellence where the theater is in a miserable state\",\n",
    "        \"source_doc_name\": \"Russian source 2\",\n",
    "        }\n",
    "    ],\n",
    "    \"matching_type\": \"1-1\"\n",
    "}\n",
    "\n",
    "context = ''\n",
    "\n",
    "one_response = lambda_handler(event, context)"
   ]
  },
  {
   "cell_type": "code",
   "execution_count": 3,
   "metadata": {},
   "outputs": [
    {
     "ename": "NameError",
     "evalue": "name 'one_response' is not defined",
     "output_type": "error",
     "traceback": [
      "\u001b[0;31m---------------------------------------------------------------------------\u001b[0m",
      "\u001b[0;31mNameError\u001b[0m                                 Traceback (most recent call last)",
      "Cell \u001b[0;32mIn[3], line 1\u001b[0m\n\u001b[0;32m----> 1\u001b[0m one_response\n",
      "\u001b[0;31mNameError\u001b[0m: name 'one_response' is not defined"
     ]
    }
   ],
   "source": [
    "one_response"
   ]
  },
  {
   "cell_type": "code",
   "execution_count": 18,
   "metadata": {},
   "outputs": [
    {
     "data": {
      "text/plain": [
       "{'status_code': 200,\n",
       " 'success': True,\n",
       " 'body': {'input_doc_name': 'input_string_name',\n",
       "  'plagiarism_flag': 0,\n",
       "  'plagiarism_score': 0.30969695066252084,\n",
       "  'plagiarised_text': [{'sentence': 'While naturally precedes dramatic art poetry, drama, on the other hand, can achieve a degree of excellence where the theater is in a miserable state',\n",
       "    'start_char_index': 36,\n",
       "    'end_char_index': 183,\n",
       "    'source_sentence': 'hand achieve a degree of excellence where the theater is in a miserable state ',\n",
       "    'source_doc_name': 'Russian source 1',\n",
       "    'score': 0.9207401897413285},\n",
       "   {'sentence': 'While naturally precedes dramatic art poetry, drama, on the other hand, can achieve a degree of excellence where the theater is in a miserable state',\n",
       "    'start_char_index': 36,\n",
       "    'end_char_index': 183,\n",
       "    'source_sentence': 'hand achieve a degree of excellence where the theater is in a miserable state ',\n",
       "    'source_doc_name': 'Russian source 2',\n",
       "    'score': 0.9207401897413285}]}}"
      ]
     },
     "execution_count": 18,
     "metadata": {},
     "output_type": "execute_result"
    }
   ],
   "source": [
    "many_response"
   ]
  },
  {
   "cell_type": "code",
   "execution_count": 3,
   "metadata": {},
   "outputs": [
    {
     "ename": "TypeError",
     "evalue": "load_model() missing 1 required positional argument: 's3_filepath'",
     "output_type": "error",
     "traceback": [
      "\u001b[0;31m---------------------------------------------------------------------------\u001b[0m",
      "\u001b[0;31mTypeError\u001b[0m                                 Traceback (most recent call last)",
      "Cell \u001b[0;32mIn[3], line 12\u001b[0m\n\u001b[1;32m      9\u001b[0m direct_output, match_lst \u001b[39m=\u001b[39m get_matching_texts(input_text_lst, source_doc, source_doc_name)\n\u001b[1;32m     11\u001b[0m nonmatch_lst \u001b[39m=\u001b[39m get_non_direct_texts(input_text_lst, match_lst)\n\u001b[0;32m---> 12\u001b[0m sentence_trans_model \u001b[39m=\u001b[39m load_model(sentbert_model_name)\n\u001b[1;32m     13\u001b[0m paraphrase_output \u001b[39m=\u001b[39m get_paraphrase_predictions(sentence_trans_model, nonmatch_lst, source_doc, source_doc_name, \u001b[39m0.7\u001b[39m)\n\u001b[1;32m     14\u001b[0m paraphrase_output\n",
      "\u001b[0;31mTypeError\u001b[0m: load_model() missing 1 required positional argument: 's3_filepath'"
     ]
    }
   ],
   "source": [
    "input_doc = \"Although somewhat surprised at his request, met with immediate Irish chefs he and young people were killed.\"\n",
    "# input_doc = \"And in this respect, it is noteworthy that the Russians who feels called to the artistic production almost always show a trend of view of epic composition\"\n",
    "input_doc_name = \"input_string_name\"\n",
    "source_doc = \"Though somehwat surprised at his request, the Irish cheftains immediately complied with it, and the young men were slain.\"\n",
    "# source_doc = \"respect noteworthy that the Russians who feels called to the artistic production almost always show trend\"\n",
    "source_doc_name = \"source_string_name\"\n",
    "\n",
    "input_text_lst = get_preprocessed_sent(input_doc)\n",
    "direct_output, match_lst = get_matching_texts(input_text_lst, source_doc, source_doc_name)\n",
    "\n",
    "nonmatch_lst = get_non_direct_texts(input_text_lst, match_lst)\n",
    "sentence_trans_model = load_model(sentbert_model_name)\n",
    "paraphrase_output = get_paraphrase_predictions(sentence_trans_model, nonmatch_lst, source_doc, source_doc_name, 0.7)\n",
    "paraphrase_output"
   ]
  },
  {
   "cell_type": "code",
   "execution_count": 2,
   "metadata": {},
   "outputs": [
    {
     "name": "stderr",
     "output_type": "stream",
     "text": [
      "/Users/elicialow/Desktop/BT4103/github/plagiarism-detector/app/compiled_functions.py:501: FutureWarning: The frame.append method is deprecated and will be removed from pandas in a future version. Use pandas.concat instead.\n",
      "  new_training_df = training_df.append(new_data, ignore_index=True)\n"
     ]
    },
    {
     "data": {
      "text/plain": [
       "''"
      ]
     },
     "execution_count": 2,
     "metadata": {},
     "output_type": "execute_result"
    }
   ],
   "source": [
    "input_doc = \"Although somewhat surprised at his request, met with immediate Irish chefs he and young people were killed.\"\n",
    "\n",
    "s3_bucket = 'nus-sambaash-data'\n",
    "s3_training_data_filepath = 'plagiarism-detector/webis_db.csv'\n",
    "\n",
    "new_data = {\n",
    "    \"file_num\": \"test_input\",\n",
    "    \"text\": input_doc\n",
    "}\n",
    "add_input_data(new_data, s3_bucket, s3_training_data_filepath)\n",
    "# s3://nus-sambaash-data/plagiarism-detector/webis_db.csv"
   ]
  },
  {
   "cell_type": "code",
   "execution_count": 1,
   "metadata": {},
   "outputs": [
    {
     "name": "stdout",
     "output_type": "stream",
     "text": [
      "Loading function\n"
     ]
    }
   ],
   "source": [
    "from plagiarism_detector import lambda_handler"
   ]
  },
  {
   "cell_type": "code",
   "execution_count": 2,
   "metadata": {},
   "outputs": [],
   "source": [
    "events = {\n",
    "  \"source_docs\": [\n",
    "    {\n",
    "      \"source_doc_name\": \"Russian source 1\",\n",
    "      \"source_doc\": \"Anybody who finds pleasure in poetic pains may add the other thirteen; to me such a task would savour of bad luck\"\n",
    "    }\n",
    "  ],\n",
    "  \"input_doc\": \"Anyone who finds pleasure in poetic pains, the other thirteen add a task would be to me that the taste of bad luck\",\n",
    "  \"input_doc_name\": \"input_string_name\",\n",
    "  \"matching_type\": \"1-1\"\n",
    "}"
   ]
  },
  {
   "cell_type": "code",
   "execution_count": 3,
   "metadata": {},
   "outputs": [
    {
     "name": "stderr",
     "output_type": "stream",
     "text": [
      "/Users/elicialow/Desktop/BT4103/github/plagiarism-detector/lambda_venv/lib/python3.8/site-packages/tqdm/auto.py:21: TqdmWarning: IProgress not found. Please update jupyter and ipywidgets. See https://ipywidgets.readthedocs.io/en/stable/user_install.html\n",
      "  from .autonotebook import tqdm as notebook_tqdm\n",
      "/Users/elicialow/Desktop/BT4103/github/plagiarism-detector/app/compiled_functions.py:538: FutureWarning: The frame.append method is deprecated and will be removed from pandas in a future version. Use pandas.concat instead.\n",
      "  training_df = training_df.append(data, ignore_index=True)\n",
      "/Users/elicialow/Desktop/BT4103/github/plagiarism-detector/app/compiled_functions.py:544: FutureWarning: The frame.append method is deprecated and will be removed from pandas in a future version. Use pandas.concat instead.\n",
      "  training_df = training_df.append(data, ignore_index=True)\n"
     ]
    },
    {
     "data": {
      "text/plain": [
       "{'statusCode': 200,\n",
       " 'success': True,\n",
       " 'body': [{'input_doc_name': 'input_string_name',\n",
       "   'plagiarism_flag': '0',\n",
       "   'plagiarism_score': 0.3540011421643601,\n",
       "   'plagiarised_text': [{'sentence': 'Anyone who finds pleasure in poetic pains, the other thirteen add a task would be to me that the taste of bad luck',\n",
       "     'start_char_index': 1,\n",
       "     'end_char_index': 114,\n",
       "     'source_sentence': 'Anybody who finds pleasure in poetic pains may add the other thirteen; to me such a task would savour of bad luck',\n",
       "     'source_doc_name': 'Russian source 1',\n",
       "     'score': 0.8686222434043884}]}]}"
      ]
     },
     "execution_count": 3,
     "metadata": {},
     "output_type": "execute_result"
    }
   ],
   "source": [
    "lambda_handler(events, context='')"
   ]
  },
  {
   "cell_type": "code",
   "execution_count": 4,
   "metadata": {},
   "outputs": [],
   "source": [
    "from sentence_transformers import SentenceTransformer\n",
    "model = SentenceTransformer('models/trained_bert_model.h5')"
   ]
  },
  {
   "cell_type": "code",
   "execution_count": 4,
   "metadata": {},
   "outputs": [],
   "source": [
    "from compiled_functions import *"
   ]
  },
  {
   "cell_type": "code",
   "execution_count": 8,
   "metadata": {},
   "outputs": [],
   "source": [
    "input_doc = \"The castle is still so far perfect that the lower part is inhabited by a farmer's family; from the windows of the castle four others are visible, none of them more than two miles from each other; and a very large cromlech is within a few yards of the castle ditch. Though somewhat surprised at his request, the Irish chieftains immediately complied with it, and the young men were slain. Then the old warrior exclaimed, \\\"Fools, I saw that your threats and your promises were beginning to influence my sons; for they were but boys, and might have yielded: but now the secret is safe, your threats or your promises have no effect on me!\\\"\"\n",
    "input_doc_name = \"input_file_4481\"\n",
    "source_docs = [\n",
    "    {\n",
    "        \"source_doc_name\": \"source_file_4481\",\n",
    "        \"source_doc\": \"Castle is still as perfect as the bottom is inhabited by a farmer family, and in some rooms above are still remaining heavy smoke, pieces of gray limestone, a very modern form, horizontal sections are decorated with a quatrefoil ornament engraved in a circle, but no data or flags: the other four windows of the castle are visible, none of them more than two miles from each other, and a large cromlech is a few yards from the castle moat. The following legend is related to the castle. Although somewhat surprised at his request, met with immediate Irish chiefs he and young people were killed. Then old warrior exclaimed: \\\"I saw crazy, Your threats and promises That you began to influence my children, for they were but boys, and should be given: but now the secret is safe, your threats or promises have no effect on me!\\\"\"\n",
    "    }\n",
    "    ]\n",
    "source_doc = source_docs[0]['source_doc']\n",
    "source_doc_name = source_docs[0]['source_doc_name']"
   ]
  },
  {
   "cell_type": "code",
   "execution_count": 39,
   "metadata": {},
   "outputs": [],
   "source": [
    "input_text_lst = get_preprocessed_sent(input_doc)\n",
    "direct_output, match_lst = get_matching_texts(input_text_lst, source_doc, source_doc_name)\n",
    "\n",
    "nonmatch_lst = get_non_direct_texts(input_text_lst, match_lst)\n",
    "sentence_trans_model = load_model(sentbert_model_name)\n",
    "paraphrase_output = get_paraphrase_predictions(sentence_trans_model, nonmatch_lst, source_doc, source_doc_name, 0.7)\n",
    "plagiarised_text = direct_output + paraphrase_output\n",
    "plagiarised_text = sorted(plagiarised_text, key=lambda d: d['start_char_index'])\n",
    "\n",
    "new_direct_output, new_paraphrase_output = modified_output_lists(direct_output, paraphrase_output, 0.95)\n",
    "\n",
    "direct_avg_score = get_avg_score(input_text_lst, new_direct_output)\n",
    "paraphrase_avg_score = get_avg_score(input_text_lst, new_paraphrase_output)\n",
    "\n",
    "containment_scores = get_containment_scores(input_doc, source_doc, ngrams_lst)\n",
    "lcm_score = get_lcm_score(input_doc, source_doc)\n",
    "\n",
    "feature_df = get_feature_dict(containment_scores, lcm_score, direct_avg_score, paraphrase_avg_score)\n",
    "\n",
    "plagiarism_flag, plagiarism_score = get_flag_score_prediction(final_model_name, feature_df)"
   ]
  },
  {
   "cell_type": "code",
   "execution_count": 20,
   "metadata": {},
   "outputs": [
    {
     "data": {
      "text/plain": [
       "[{'sentence': \"The castle is still so far perfect that the lower part is inhabited by a farmer's family; from the windows of the castle four others are visible, none of them more than two miles from each other; and a very large cromlech is within a few yards of the castle ditch\",\n",
       "  'start_char_index': 1,\n",
       "  'end_char_index': 263},\n",
       " {'sentence': 'Though somewhat surprised at his request, the Irish chieftains immediately complied with it, and the young men were slain',\n",
       "  'start_char_index': 264,\n",
       "  'end_char_index': 384},\n",
       " {'sentence': 'Then the old warrior exclaimed, \"Fools, I saw that your threats and your promises were beginning to influence my sons; for they were but boys, and might have yielded: but now the secret is safe, your threats or your promises have no effect on me',\n",
       "  'start_char_index': 385,\n",
       "  'end_char_index': 629}]"
      ]
     },
     "execution_count": 20,
     "metadata": {},
     "output_type": "execute_result"
    }
   ],
   "source": [
    "input_text_lst"
   ]
  },
  {
   "cell_type": "code",
   "execution_count": 22,
   "metadata": {},
   "outputs": [
    {
     "data": {
      "text/plain": [
       "[{'sentence': \"The castle is still so far perfect that the lower part is inhabited by a farmer's family; from the windows of the castle four others are visible, none of them more than two miles from each other; and a very large cromlech is within a few yards of the castle ditch\",\n",
       "  'start_char_index': 1,\n",
       "  'end_char_index': 263,\n",
       "  'source_sentence': 'others are visible, none of them more than two miles from each other; and a very large cromlech within',\n",
       "  'source_doc_name': 'source_file_4481',\n",
       "  'score': 0.7532444928234143}]"
      ]
     },
     "execution_count": 22,
     "metadata": {},
     "output_type": "execute_result"
    }
   ],
   "source": [
    "direct_output"
   ]
  },
  {
   "cell_type": "code",
   "execution_count": 24,
   "metadata": {},
   "outputs": [
    {
     "data": {
      "text/plain": [
       "[{'sentence': 'Though somewhat surprised at his request, the Irish chieftains immediately complied with it, and the young men were slain',\n",
       "  'start_char_index': 264,\n",
       "  'end_char_index': 384},\n",
       " {'sentence': 'Then the old warrior exclaimed, \"Fools, I saw that your threats and your promises were beginning to influence my sons; for they were but boys, and might have yielded: but now the secret is safe, your threats or your promises have no effect on me',\n",
       "  'start_char_index': 385,\n",
       "  'end_char_index': 629}]"
      ]
     },
     "execution_count": 24,
     "metadata": {},
     "output_type": "execute_result"
    }
   ],
   "source": [
    "nonmatch_lst"
   ]
  },
  {
   "cell_type": "code",
   "execution_count": 26,
   "metadata": {},
   "outputs": [
    {
     "data": {
      "text/plain": [
       "[{'sentence': 'Though somewhat surprised at his request, the Irish chieftains immediately complied with it, and the young men were slain',\n",
       "  'start_char_index': 264,\n",
       "  'end_char_index': 384,\n",
       "  'source_sentence': 'Although somewhat surprised at his request, met with immediate Irish chiefs he and young people were killed',\n",
       "  'source_doc_name': 'source_file_4481',\n",
       "  'score': 0.769335150718689},\n",
       " {'sentence': 'Then the old warrior exclaimed, \"Fools, I saw that your threats and your promises were beginning to influence my sons; for they were but boys, and might have yielded: but now the secret is safe, your threats or your promises have no effect on me',\n",
       "  'start_char_index': 385,\n",
       "  'end_char_index': 629,\n",
       "  'source_sentence': 'Then old warrior exclaimed: \"I saw crazy, Your threats and promises That you began to influence my children, for they were but boys, and should be given: but now the secret is safe, your threats or promises have no effect on me',\n",
       "  'source_doc_name': 'source_file_4481',\n",
       "  'score': 0.9587375521659851}]"
      ]
     },
     "execution_count": 26,
     "metadata": {},
     "output_type": "execute_result"
    }
   ],
   "source": [
    "paraphrase_output"
   ]
  },
  {
   "cell_type": "code",
   "execution_count": 42,
   "metadata": {},
   "outputs": [
    {
     "data": {
      "text/plain": [
       "[{'sentence': \"The castle is still so far perfect that the lower part is inhabited by a farmer's family; from the windows of the castle four others are visible, none of them more than two miles from each other; and a very large cromlech is within a few yards of the castle ditch\",\n",
       "  'start_char_index': 1,\n",
       "  'end_char_index': 263,\n",
       "  'source_sentence': 'others are visible, none of them more than two miles from each other; and a very large cromlech within',\n",
       "  'source_doc_name': 'source_file_4481',\n",
       "  'score': 0.7532444928234143},\n",
       " {'sentence': 'Though somewhat surprised at his request, the Irish chieftains immediately complied with it, and the young men were slain',\n",
       "  'start_char_index': 264,\n",
       "  'end_char_index': 384,\n",
       "  'source_sentence': 'Although somewhat surprised at his request, met with immediate Irish chiefs he and young people were killed',\n",
       "  'source_doc_name': 'source_file_4481',\n",
       "  'score': 0.769335150718689},\n",
       " {'sentence': 'Then the old warrior exclaimed, \"Fools, I saw that your threats and your promises were beginning to influence my sons; for they were but boys, and might have yielded: but now the secret is safe, your threats or your promises have no effect on me',\n",
       "  'start_char_index': 385,\n",
       "  'end_char_index': 629,\n",
       "  'source_sentence': 'Then old warrior exclaimed: \"I saw crazy, Your threats and promises That you began to influence my children, for they were but boys, and should be given: but now the secret is safe, your threats or promises have no effect on me',\n",
       "  'source_doc_name': 'source_file_4481',\n",
       "  'score': 0.9587375521659851}]"
      ]
     },
     "execution_count": 42,
     "metadata": {},
     "output_type": "execute_result"
    }
   ],
   "source": [
    "plagiarised_text"
   ]
  },
  {
   "cell_type": "code",
   "execution_count": 29,
   "metadata": {},
   "outputs": [
    {
     "data": {
      "text/plain": [
       "0.5706606816631331"
      ]
     },
     "execution_count": 29,
     "metadata": {},
     "output_type": "execute_result"
    }
   ],
   "source": [
    "direct_avg_score"
   ]
  },
  {
   "cell_type": "code",
   "execution_count": 30,
   "metadata": {},
   "outputs": [
    {
     "data": {
      "text/plain": [
       "0.256445050239563"
      ]
     },
     "execution_count": 30,
     "metadata": {},
     "output_type": "execute_result"
    }
   ],
   "source": [
    "paraphrase_avg_score"
   ]
  },
  {
   "cell_type": "code",
   "execution_count": 37,
   "metadata": {},
   "outputs": [
    {
     "data": {
      "text/plain": [
       "{'c_1': 0.7657657657657657, 'c_4': 0.25, 'c_5': 0.18691588785046728}"
      ]
     },
     "execution_count": 37,
     "metadata": {},
     "output_type": "execute_result"
    }
   ],
   "source": [
    "containment_scores"
   ]
  },
  {
   "cell_type": "code",
   "execution_count": 38,
   "metadata": {},
   "outputs": [
    {
     "data": {
      "text/plain": [
       "0.04"
      ]
     },
     "execution_count": 38,
     "metadata": {},
     "output_type": "execute_result"
    }
   ],
   "source": [
    "lcm_score"
   ]
  },
  {
   "cell_type": "code",
   "execution_count": 40,
   "metadata": {},
   "outputs": [
    {
     "data": {
      "text/plain": [
       "0"
      ]
     },
     "execution_count": 40,
     "metadata": {},
     "output_type": "execute_result"
    }
   ],
   "source": [
    "plagiarism_flag"
   ]
  },
  {
   "cell_type": "code",
   "execution_count": 41,
   "metadata": {},
   "outputs": [
    {
     "data": {
      "text/plain": [
       "0.3966290365033661"
      ]
     },
     "execution_count": 41,
     "metadata": {},
     "output_type": "execute_result"
    }
   ],
   "source": [
    "plagiarism_score"
   ]
  },
  {
   "cell_type": "code",
   "execution_count": null,
   "metadata": {},
   "outputs": [],
   "source": []
  }
 ],
 "metadata": {
  "kernelspec": {
   "display_name": "lambda_venv",
   "language": "python",
   "name": "python3"
  },
  "language_info": {
   "codemirror_mode": {
    "name": "ipython",
    "version": 3
   },
   "file_extension": ".py",
   "mimetype": "text/x-python",
   "name": "python",
   "nbconvert_exporter": "python",
   "pygments_lexer": "ipython3",
   "version": "3.8.9"
  },
  "orig_nbformat": 4
 },
 "nbformat": 4,
 "nbformat_minor": 2
}
