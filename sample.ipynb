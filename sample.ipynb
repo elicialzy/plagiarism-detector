{
 "cells": [
  {
   "cell_type": "code",
   "execution_count": 1,
   "metadata": {},
   "outputs": [
    {
     "name": "stdout",
     "output_type": "stream",
     "text": [
      "Loading function\n"
     ]
    }
   ],
   "source": [
    "from plagiarism_detector import lambda_handler\n",
    "from compiled_functions import *"
   ]
  },
  {
   "cell_type": "code",
   "execution_count": 2,
   "metadata": {},
   "outputs": [
    {
     "name": "stderr",
     "output_type": "stream",
     "text": [
      "/Users/elicialow/Desktop/BT4103/github/plagiarism-detector/lambda_venv/lib/python3.8/site-packages/tqdm/auto.py:21: TqdmWarning: IProgress not found. Please update jupyter and ipywidgets. See https://ipywidgets.readthedocs.io/en/stable/user_install.html\n",
      "  from .autonotebook import tqdm as notebook_tqdm\n",
      "/Users/elicialow/Desktop/BT4103/github/plagiarism-detector/app/compiled_functions.py:535: FutureWarning: The frame.append method is deprecated and will be removed from pandas in a future version. Use pandas.concat instead.\n",
      "  training_df = training_df.append(data, ignore_index=True)\n",
      "/Users/elicialow/Desktop/BT4103/github/plagiarism-detector/app/compiled_functions.py:535: FutureWarning: The frame.append method is deprecated and will be removed from pandas in a future version. Use pandas.concat instead.\n",
      "  training_df = training_df.append(data, ignore_index=True)\n",
      "/Users/elicialow/Desktop/BT4103/github/plagiarism-detector/app/compiled_functions.py:541: FutureWarning: The frame.append method is deprecated and will be removed from pandas in a future version. Use pandas.concat instead.\n",
      "  training_df = training_df.append(data, ignore_index=True)\n"
     ]
    }
   ],
   "source": [
    "event = {\n",
    "    \"input_doc_name\": \"input_string_name\",\n",
    "    \"input_doc\": \"Pride Russians suffered accordingly.  While naturally precedes dramatic art poetry, drama, on the other hand, can achieve a degree of excellence where the theater is in a miserable state. It is now barely half a century from the beginning was an effort to remove all the lack of scientific culture in the Russian nation, but what are fifty years for such purpose, in a country so huge? The number of received scientific stimulus and was carried to a degree of intellectual sophistication is very low, and a happy accident that is genius among the small number must be very rare. And in this respect, it is noteworthy that the Russians who feels called to the artistic production almost always show a trend of view of epic composition.  Difficulties as the Russian seem terrible. In love, written as he embarrasses less and therefore have almost all the throws in the making of novels.  As is generally the case in the early literature of every nation, every writer in Russia is taken for a miracle, and looked with astonishment. Kukolnik playwright is an example. He wrote a good deal for the theater, but nothing is as it should be praised as much as his zeal in imitation. It must be admitted that in this he possesses a remarkable degree of dexterity. He soon became the area's favorite love, but this also he shows weakness at the national level. In each of his numerous works the most striking feature is the lack of organization. They were completed with no beginning and author ever thought a plot, or mode of treatment\",\n",
    "    \"source_docs\": [\n",
    "        {\n",
    "        \"source_doc_name\": \"Russian source 1\",\n",
    "        \"source_doc\": \"achieve degree of excellence where the theater is in a miserable state\"\n",
    "        },\n",
    "\n",
    "        {\n",
    "        \"source_doc\": \"achieve degree of excellence where the theater is in a miserable state\",\n",
    "        \"source_doc_name\": \"Russian source 2\",\n",
    "        }\n",
    "    ],\n",
    "    \"matching_type\": \"1-many\"\n",
    "}\n",
    "\n",
    "context = ''\n",
    "\n",
    "many_response = lambda_handler(event, context)"
   ]
  },
  {
   "cell_type": "code",
   "execution_count": 3,
   "metadata": {},
   "outputs": [
    {
     "data": {
      "text/plain": [
       "{'status_code': 200,\n",
       " 'success': True,\n",
       " 'body': {'input_doc_name': 'input_string_name',\n",
       "  'plagiarism_flag': '0',\n",
       "  'plagiarism_score': 0.30969695066252084,\n",
       "  'plagiarised_text': [{'sentence': 'While naturally precedes dramatic art poetry, drama, on the other hand, can achieve a degree of excellence where the theater is in a miserable state',\n",
       "    'start_char_index': 36,\n",
       "    'end_char_index': 183,\n",
       "    'source_sentence': 'hand achieve a degree of excellence where the theater is in a miserable state ',\n",
       "    'source_doc_name': 'Russian source 1',\n",
       "    'score': 0.9207401897413285},\n",
       "   {'sentence': 'While naturally precedes dramatic art poetry, drama, on the other hand, can achieve a degree of excellence where the theater is in a miserable state',\n",
       "    'start_char_index': 36,\n",
       "    'end_char_index': 183,\n",
       "    'source_sentence': 'hand achieve a degree of excellence where the theater is in a miserable state ',\n",
       "    'source_doc_name': 'Russian source 2',\n",
       "    'score': 0.9207401897413285}]}}"
      ]
     },
     "execution_count": 3,
     "metadata": {},
     "output_type": "execute_result"
    }
   ],
   "source": [
    "many_response"
   ]
  },
  {
   "cell_type": "code",
   "execution_count": 4,
   "metadata": {},
   "outputs": [
    {
     "name": "stdout",
     "output_type": "stream",
     "text": [
      "-0.007701870985329151\n",
      "0.2842426598072052\n",
      "0.9999999403953552\n",
      "0.4123450219631195\n",
      "0.3655587136745453\n",
      "0.15808069705963135\n",
      "0.1654045581817627\n",
      "0.5466952323913574\n",
      "-0.021073833107948303\n",
      "0.3044346868991852\n",
      "0.10668475925922394\n",
      "0.27875757217407227\n",
      "0.26631367206573486\n",
      "0.26034072041511536\n"
     ]
    }
   ],
   "source": [
    "event = {\n",
    "    \"input_doc_name\": \"input_string_name\",\n",
    "    \"input_doc\": \"Pride Russians suffered accordingly.  While naturally precedes dramatic art poetry, drama, on the other hand, can achieve a degree of excellence where the theater is in a miserable state. It is now barely half a century from the beginning was an effort to remove all the lack of scientific culture in the Russian nation, but what are fifty years for such purpose, in a country so huge? The number of received scientific stimulus and was carried to a degree of intellectual sophistication is very low, and a happy accident that is genius among the small number must be very rare. And in this respect, it is noteworthy that the Russians who feels called to the artistic production almost always show a trend of view of epic composition.  Difficulties as the Russian seem terrible. In love, written as he embarrasses less and therefore have almost all the throws in the making of novels.  As is generally the case in the early literature of every nation, every writer in Russia is taken for a miracle, and looked with astonishment. Kukolnik playwright is an example. He wrote a good deal for the theater, but nothing is as it should be praised as much as his zeal in imitation. It must be admitted that in this he possesses a remarkable degree of dexterity. He soon became the area's favorite love, but this also he shows weakness at the national level. In each of his numerous works the most striking feature is the lack of organization. They were completed with no beginning and author ever thought a plot, or mode of treatment\",\n",
    "    \"source_docs\": [\n",
    "        {\n",
    "        \"source_doc_name\": \"Russian source 1\",\n",
    "        \"source_doc\": \"It is now barely half a century from the beginning was an effort to remove all the lack of scientific culture in the Russian nation, but what are fifty years for such purpose, in a country so huge\"\n",
    "        },\n",
    "\n",
    "        {\n",
    "        \"source_doc\": \"achieve degree of excellence where the theater is in a miserable state\",\n",
    "        \"source_doc_name\": \"Russian source 2\",\n",
    "        }\n",
    "    ],\n",
    "    \"matching_type\": \"1-1\"\n",
    "}\n",
    "\n",
    "context = ''\n",
    "\n",
    "one_response = lambda_handler(event, context)"
   ]
  },
  {
   "cell_type": "code",
   "execution_count": 3,
   "metadata": {},
   "outputs": [
    {
     "ename": "NameError",
     "evalue": "name 'one_response' is not defined",
     "output_type": "error",
     "traceback": [
      "\u001b[0;31m---------------------------------------------------------------------------\u001b[0m",
      "\u001b[0;31mNameError\u001b[0m                                 Traceback (most recent call last)",
      "Cell \u001b[0;32mIn[3], line 1\u001b[0m\n\u001b[0;32m----> 1\u001b[0m one_response\n",
      "\u001b[0;31mNameError\u001b[0m: name 'one_response' is not defined"
     ]
    }
   ],
   "source": [
    "one_response"
   ]
  },
  {
   "cell_type": "code",
   "execution_count": 18,
   "metadata": {},
   "outputs": [
    {
     "data": {
      "text/plain": [
       "{'status_code': 200,\n",
       " 'success': True,\n",
       " 'body': {'input_doc_name': 'input_string_name',\n",
       "  'plagiarism_flag': 0,\n",
       "  'plagiarism_score': 0.30969695066252084,\n",
       "  'plagiarised_text': [{'sentence': 'While naturally precedes dramatic art poetry, drama, on the other hand, can achieve a degree of excellence where the theater is in a miserable state',\n",
       "    'start_char_index': 36,\n",
       "    'end_char_index': 183,\n",
       "    'source_sentence': 'hand achieve a degree of excellence where the theater is in a miserable state ',\n",
       "    'source_doc_name': 'Russian source 1',\n",
       "    'score': 0.9207401897413285},\n",
       "   {'sentence': 'While naturally precedes dramatic art poetry, drama, on the other hand, can achieve a degree of excellence where the theater is in a miserable state',\n",
       "    'start_char_index': 36,\n",
       "    'end_char_index': 183,\n",
       "    'source_sentence': 'hand achieve a degree of excellence where the theater is in a miserable state ',\n",
       "    'source_doc_name': 'Russian source 2',\n",
       "    'score': 0.9207401897413285}]}}"
      ]
     },
     "execution_count": 18,
     "metadata": {},
     "output_type": "execute_result"
    }
   ],
   "source": [
    "many_response"
   ]
  },
  {
   "cell_type": "code",
   "execution_count": 5,
   "metadata": {},
   "outputs": [
    {
     "name": "stdout",
     "output_type": "stream",
     "text": [
      "0.6876834630966187\n"
     ]
    },
    {
     "data": {
      "text/plain": [
       "[]"
      ]
     },
     "execution_count": 5,
     "metadata": {},
     "output_type": "execute_result"
    }
   ],
   "source": [
    "input_doc = \"Although somewhat surprised at his request, met with immediate Irish chefs he and young people were killed.\"\n",
    "# input_doc = \"And in this respect, it is noteworthy that the Russians who feels called to the artistic production almost always show a trend of view of epic composition\"\n",
    "input_doc_name = \"input_string_name\"\n",
    "source_doc = \"Though somehwat surprised at his request, the Irish cheftains immediately complied with it, and the young men were slain.\"\n",
    "# source_doc = \"respect noteworthy that the Russians who feels called to the artistic production almost always show trend\"\n",
    "source_doc_name = \"source_string_name\"\n",
    "\n",
    "input_text_lst = get_preprocessed_sent(input_doc)\n",
    "direct_output, match_lst = get_matching_texts(input_text_lst, source_doc, source_doc_name)\n",
    "\n",
    "nonmatch_lst = get_non_direct_texts(input_text_lst, match_lst)\n",
    "sentence_trans_model = load_model(sentbert_model_name)\n",
    "paraphrase_output = get_paraphrase_predictions(sentence_trans_model, nonmatch_lst, source_doc, source_doc_name, 0.7)\n",
    "paraphrase_output"
   ]
  },
  {
   "cell_type": "code",
   "execution_count": 2,
   "metadata": {},
   "outputs": [
    {
     "name": "stderr",
     "output_type": "stream",
     "text": [
      "/Users/elicialow/Desktop/BT4103/github/plagiarism-detector/app/compiled_functions.py:501: FutureWarning: The frame.append method is deprecated and will be removed from pandas in a future version. Use pandas.concat instead.\n",
      "  new_training_df = training_df.append(new_data, ignore_index=True)\n"
     ]
    },
    {
     "data": {
      "text/plain": [
       "''"
      ]
     },
     "execution_count": 2,
     "metadata": {},
     "output_type": "execute_result"
    }
   ],
   "source": [
    "input_doc = \"Although somewhat surprised at his request, met with immediate Irish chefs he and young people were killed.\"\n",
    "\n",
    "s3_bucket = 'nus-sambaash-data'\n",
    "s3_training_data_filepath = 'plagiarism-detector/webis_db.csv'\n",
    "\n",
    "new_data = {\n",
    "    \"file_num\": \"test_input\",\n",
    "    \"text\": input_doc\n",
    "}\n",
    "add_input_data(new_data, s3_bucket, s3_training_data_filepath)\n",
    "# s3://nus-sambaash-data/plagiarism-detector/webis_db.csv"
   ]
  },
  {
   "cell_type": "markdown",
   "metadata": {},
   "source": []
  },
  {
   "cell_type": "code",
   "execution_count": 3,
   "metadata": {},
   "outputs": [
    {
     "name": "stdout",
     "output_type": "stream",
     "text": [
      "Collecting fsspec\n",
      "  Downloading fsspec-2023.3.0-py3-none-any.whl (145 kB)\n",
      "\u001b[2K     \u001b[90m━━━━━━━━━━━━━━━━━━━━━━━━━━━━━━━━━━━━━━━\u001b[0m \u001b[32m145.4/145.4 kB\u001b[0m \u001b[31m1.8 MB/s\u001b[0m eta \u001b[36m0:00:00\u001b[0ma \u001b[36m0:00:01\u001b[0m\n",
      "\u001b[?25hInstalling collected packages: fsspec\n",
      "Successfully installed fsspec-2023.3.0\n"
     ]
    }
   ],
   "source": [
    "!pip3 install fsspec"
   ]
  },
  {
   "cell_type": "code",
   "execution_count": 5,
   "metadata": {},
   "outputs": [
    {
     "name": "stdout",
     "output_type": "stream",
     "text": [
      "Collecting s3fs\n",
      "  Downloading s3fs-2023.3.0-py3-none-any.whl (27 kB)\n",
      "Collecting aiobotocore~=2.4.2\n",
      "  Downloading aiobotocore-2.4.2-py3-none-any.whl (66 kB)\n",
      "\u001b[2K     \u001b[90m━━━━━━━━━━━━━━━━━━━━━━━━━━━━━━━━━━━━━━━━\u001b[0m \u001b[32m66.8/66.8 kB\u001b[0m \u001b[31m1.7 MB/s\u001b[0m eta \u001b[36m0:00:00\u001b[0m\n",
      "\u001b[?25hRequirement already satisfied: fsspec==2023.3.0 in /Users/elicialow/Desktop/BT4103/github/plagiarism-detector/lambda_venv/lib/python3.8/site-packages (from s3fs) (2023.3.0)\n",
      "Collecting aiohttp!=4.0.0a0,!=4.0.0a1\n",
      "  Downloading aiohttp-3.8.4-cp38-cp38-macosx_10_9_x86_64.whl (359 kB)\n",
      "\u001b[2K     \u001b[90m━━━━━━━━━━━━━━━━━━━━━━━━━━━━━━━━━━━━━━━\u001b[0m \u001b[32m359.3/359.3 kB\u001b[0m \u001b[31m1.2 MB/s\u001b[0m eta \u001b[36m0:00:00\u001b[0m00:01\u001b[0m00:01\u001b[0m\n",
      "\u001b[?25hCollecting wrapt>=1.10.10\n",
      "  Downloading wrapt-1.15.0-cp38-cp38-macosx_10_9_x86_64.whl (35 kB)\n",
      "Collecting aioitertools>=0.5.1\n",
      "  Downloading aioitertools-0.11.0-py3-none-any.whl (23 kB)\n",
      "Collecting botocore<1.27.60,>=1.27.59\n",
      "  Downloading botocore-1.27.59-py3-none-any.whl (9.1 MB)\n",
      "\u001b[2K     \u001b[90m━━━━━━━━━━━━━━━━━━━━━━━━━━━━━━━━━━━━━━━━\u001b[0m \u001b[32m9.1/9.1 MB\u001b[0m \u001b[31m1.6 MB/s\u001b[0m eta \u001b[36m0:00:00\u001b[0m00:01\u001b[0m00:01\u001b[0m\n",
      "\u001b[?25hCollecting frozenlist>=1.1.1\n",
      "  Downloading frozenlist-1.3.3-cp38-cp38-macosx_10_9_x86_64.whl (36 kB)\n",
      "Collecting multidict<7.0,>=4.5\n",
      "  Downloading multidict-6.0.4-cp38-cp38-macosx_10_9_x86_64.whl (29 kB)\n",
      "Collecting yarl<2.0,>=1.0\n",
      "  Downloading yarl-1.8.2-cp38-cp38-macosx_10_9_x86_64.whl (60 kB)\n",
      "\u001b[2K     \u001b[90m━━━━━━━━━━━━━━━━━━━━━━━━━━━━━━━━━━━━━━━━\u001b[0m \u001b[32m60.8/60.8 kB\u001b[0m \u001b[31m1.1 MB/s\u001b[0m eta \u001b[36m0:00:00\u001b[0ma \u001b[36m0:00:01\u001b[0m\n",
      "\u001b[?25hRequirement already satisfied: charset-normalizer<4.0,>=2.0 in /Users/elicialow/Desktop/BT4103/github/plagiarism-detector/lambda_venv/lib/python3.8/site-packages (from aiohttp!=4.0.0a0,!=4.0.0a1->s3fs) (3.1.0)\n",
      "Collecting attrs>=17.3.0\n",
      "  Downloading attrs-22.2.0-py3-none-any.whl (60 kB)\n",
      "\u001b[2K     \u001b[90m━━━━━━━━━━━━━━━━━━━━━━━━━━━━━━━━━━━━━━━━\u001b[0m \u001b[32m60.0/60.0 kB\u001b[0m \u001b[31m2.0 MB/s\u001b[0m eta \u001b[36m0:00:00\u001b[0m\n",
      "\u001b[?25hCollecting aiosignal>=1.1.2\n",
      "  Downloading aiosignal-1.3.1-py3-none-any.whl (7.6 kB)\n",
      "Collecting async-timeout<5.0,>=4.0.0a3\n",
      "  Using cached async_timeout-4.0.2-py3-none-any.whl (5.8 kB)\n",
      "Requirement already satisfied: typing_extensions>=4.0 in /Users/elicialow/Desktop/BT4103/github/plagiarism-detector/lambda_venv/lib/python3.8/site-packages (from aioitertools>=0.5.1->aiobotocore~=2.4.2->s3fs) (4.5.0)\n",
      "Requirement already satisfied: urllib3<1.27,>=1.25.4 in /Users/elicialow/Desktop/BT4103/github/plagiarism-detector/lambda_venv/lib/python3.8/site-packages (from botocore<1.27.60,>=1.27.59->aiobotocore~=2.4.2->s3fs) (1.26.15)\n",
      "Requirement already satisfied: python-dateutil<3.0.0,>=2.1 in /Users/elicialow/Desktop/BT4103/github/plagiarism-detector/lambda_venv/lib/python3.8/site-packages (from botocore<1.27.60,>=1.27.59->aiobotocore~=2.4.2->s3fs) (2.8.2)\n",
      "Requirement already satisfied: jmespath<2.0.0,>=0.7.1 in /Users/elicialow/Desktop/BT4103/github/plagiarism-detector/lambda_venv/lib/python3.8/site-packages (from botocore<1.27.60,>=1.27.59->aiobotocore~=2.4.2->s3fs) (1.0.1)\n",
      "Requirement already satisfied: idna>=2.0 in /Users/elicialow/Desktop/BT4103/github/plagiarism-detector/lambda_venv/lib/python3.8/site-packages (from yarl<2.0,>=1.0->aiohttp!=4.0.0a0,!=4.0.0a1->s3fs) (3.4)\n",
      "Requirement already satisfied: six>=1.5 in /Users/elicialow/Desktop/BT4103/github/plagiarism-detector/lambda_venv/lib/python3.8/site-packages (from python-dateutil<3.0.0,>=2.1->botocore<1.27.60,>=1.27.59->aiobotocore~=2.4.2->s3fs) (1.16.0)\n",
      "Installing collected packages: wrapt, multidict, frozenlist, attrs, async-timeout, aioitertools, yarl, botocore, aiosignal, aiohttp, aiobotocore, s3fs\n",
      "  Attempting uninstall: botocore\n",
      "    Found existing installation: botocore 1.29.99\n",
      "    Uninstalling botocore-1.29.99:\n",
      "      Successfully uninstalled botocore-1.29.99\n",
      "\u001b[31mERROR: pip's dependency resolver does not currently take into account all the packages that are installed. This behaviour is the source of the following dependency conflicts.\n",
      "boto3 1.26.99 requires botocore<1.30.0,>=1.29.99, but you have botocore 1.27.59 which is incompatible.\u001b[0m\u001b[31m\n",
      "\u001b[0mSuccessfully installed aiobotocore-2.4.2 aiohttp-3.8.4 aioitertools-0.11.0 aiosignal-1.3.1 async-timeout-4.0.2 attrs-22.2.0 botocore-1.27.59 frozenlist-1.3.3 multidict-6.0.4 s3fs-2023.3.0 wrapt-1.15.0 yarl-1.8.2\n"
     ]
    }
   ],
   "source": [
    "!pip3 install s3fs"
   ]
  },
  {
   "cell_type": "code",
   "execution_count": 4,
   "metadata": {},
   "outputs": [
    {
     "name": "stdout",
     "output_type": "stream",
     "text": [
      "Package               Version\n",
      "--------------------- ---------\n",
      "aiobotocore           2.4.2\n",
      "aiohttp               3.8.4\n",
      "aioitertools          0.11.0\n",
      "aiosignal             1.3.1\n",
      "appnope               0.1.3\n",
      "asttokens             2.2.1\n",
      "async-timeout         4.0.2\n",
      "attrs                 22.2.0\n",
      "backcall              0.2.0\n",
      "boto3                 1.26.99\n",
      "botocore              1.27.59\n",
      "certifi               2022.12.7\n",
      "charset-normalizer    3.1.0\n",
      "click                 8.1.3\n",
      "comm                  0.1.3\n",
      "debugpy               1.6.6\n",
      "decorator             5.1.1\n",
      "executing             1.2.0\n",
      "filelock              3.10.4\n",
      "frozenlist            1.3.3\n",
      "fsspec                2023.3.0\n",
      "huggingface-hub       0.13.3\n",
      "idna                  3.4\n",
      "importlib-metadata    6.1.0\n",
      "ipykernel             6.22.0\n",
      "ipython               8.12.0\n",
      "jedi                  0.18.2\n",
      "Jinja2                3.1.2\n",
      "jmespath              1.0.1\n",
      "joblib                1.2.0\n",
      "jupyter_client        8.1.0\n",
      "jupyter_core          5.3.0\n",
      "MarkupSafe            2.1.2\n",
      "matplotlib-inline     0.1.6\n",
      "mpmath                1.3.0\n",
      "multidict             6.0.4\n",
      "nest-asyncio          1.5.6\n",
      "networkx              3.0\n",
      "nltk                  3.8.1\n",
      "numpy                 1.24.2\n",
      "packaging             23.0\n",
      "pandas                1.5.3\n",
      "parso                 0.8.3\n",
      "pexpect               4.8.0\n",
      "pickleshare           0.7.5\n",
      "Pillow                9.4.0\n",
      "pip                   23.0.1\n",
      "platformdirs          3.2.0\n",
      "prompt-toolkit        3.0.38\n",
      "psutil                5.9.4\n",
      "ptyprocess            0.7.0\n",
      "pure-eval             0.2.2\n",
      "Pygments              2.14.0\n",
      "python-dateutil       2.8.2\n",
      "pytz                  2022.7.1\n",
      "PyYAML                6.0\n",
      "pyzmq                 25.0.2\n",
      "regex                 2023.3.23\n",
      "requests              2.28.2\n",
      "s3fs                  2023.3.0\n",
      "s3transfer            0.6.0\n",
      "scikit-learn          1.2.2\n",
      "scipy                 1.10.1\n",
      "sentence-transformers 2.2.2\n",
      "sentencepiece         0.1.97\n",
      "setuptools            67.4.0\n",
      "six                   1.16.0\n",
      "stack-data            0.6.2\n",
      "sympy                 1.11.1\n",
      "threadpoolctl         3.1.0\n",
      "tokenizers            0.13.2\n",
      "torch                 2.0.0\n",
      "torchvision           0.15.1\n",
      "tornado               6.2\n",
      "tqdm                  4.65.0\n",
      "traitlets             5.9.0\n",
      "transformers          4.27.3\n",
      "typing_extensions     4.5.0\n",
      "urllib3               1.26.15\n",
      "wcwidth               0.2.6\n",
      "wheel                 0.38.4\n",
      "wrapt                 1.15.0\n",
      "xgboost               1.7.4\n",
      "yarl                  1.8.2\n",
      "zipp                  3.15.0\n"
     ]
    }
   ],
   "source": [
    "!pip3 list"
   ]
  },
  {
   "cell_type": "code",
   "execution_count": 29,
   "metadata": {},
   "outputs": [
    {
     "ename": "FileNotFoundError",
     "evalue": "[Errno 2] No such file or directory: 'app/models/trained_bert_model.joblib'",
     "output_type": "error",
     "traceback": [
      "\u001b[0;31m---------------------------------------------------------------------------\u001b[0m",
      "\u001b[0;31mFileNotFoundError\u001b[0m                         Traceback (most recent call last)",
      "Cell \u001b[0;32mIn[29], line 2\u001b[0m\n\u001b[1;32m      1\u001b[0m \u001b[39mimport\u001b[39;00m \u001b[39mjoblib\u001b[39;00m\n\u001b[0;32m----> 2\u001b[0m model \u001b[39m=\u001b[39m joblib\u001b[39m.\u001b[39;49mload(\u001b[39m'\u001b[39;49m\u001b[39mapp/models/trained_bert_model.joblib\u001b[39;49m\u001b[39m'\u001b[39;49m)\n\u001b[1;32m      3\u001b[0m model\n",
      "File \u001b[0;32m~/Desktop/BT4103/github/plagiarism-detector/lambda_venv/lib/python3.8/site-packages/joblib/numpy_pickle.py:650\u001b[0m, in \u001b[0;36mload\u001b[0;34m(filename, mmap_mode)\u001b[0m\n\u001b[1;32m    648\u001b[0m         obj \u001b[39m=\u001b[39m _unpickle(fobj)\n\u001b[1;32m    649\u001b[0m \u001b[39melse\u001b[39;00m:\n\u001b[0;32m--> 650\u001b[0m     \u001b[39mwith\u001b[39;00m \u001b[39mopen\u001b[39;49m(filename, \u001b[39m'\u001b[39;49m\u001b[39mrb\u001b[39;49m\u001b[39m'\u001b[39;49m) \u001b[39mas\u001b[39;00m f:\n\u001b[1;32m    651\u001b[0m         \u001b[39mwith\u001b[39;00m _read_fileobject(f, filename, mmap_mode) \u001b[39mas\u001b[39;00m fobj:\n\u001b[1;32m    652\u001b[0m             \u001b[39mif\u001b[39;00m \u001b[39misinstance\u001b[39m(fobj, \u001b[39mstr\u001b[39m):\n\u001b[1;32m    653\u001b[0m                 \u001b[39m# if the returned file object is a string, this means we\u001b[39;00m\n\u001b[1;32m    654\u001b[0m                 \u001b[39m# try to load a pickle file generated with an version of\u001b[39;00m\n\u001b[1;32m    655\u001b[0m                 \u001b[39m# Joblib so we load it with joblib compatibility function.\u001b[39;00m\n",
      "\u001b[0;31mFileNotFoundError\u001b[0m: [Errno 2] No such file or directory: 'app/models/trained_bert_model.joblib'"
     ]
    }
   ],
   "source": [
    "import joblib\n",
    "model = joblib.load('app/models/trained_bert_model.joblib')\n",
    "model"
   ]
  },
  {
   "cell_type": "code",
   "execution_count": 1,
   "metadata": {},
   "outputs": [
    {
     "name": "stdout",
     "output_type": "stream",
     "text": [
      "Loading function\n"
     ]
    }
   ],
   "source": [
    "from plagiarism_detector import lambda_handler"
   ]
  },
  {
   "cell_type": "code",
   "execution_count": 2,
   "metadata": {},
   "outputs": [],
   "source": [
    "events = {\n",
    "  \"source_docs\": [\n",
    "    {\n",
    "      \"source_doc_name\": \"Russian source 1\",\n",
    "      \"source_doc\": \"Anybody who finds pleasure in poetic pains may add the other thirteen; to me such a task would savour of bad luck\"\n",
    "    }\n",
    "  ],\n",
    "  \"input_doc\": \"Anyone who finds pleasure in poetic pains, the other thirteen add a task would be to me that the taste of bad luck\",\n",
    "  \"input_doc_name\": \"input_string_name\",\n",
    "  \"matching_type\": \"1-1\"\n",
    "}"
   ]
  },
  {
   "cell_type": "code",
   "execution_count": 3,
   "metadata": {},
   "outputs": [
    {
     "name": "stderr",
     "output_type": "stream",
     "text": [
      "/Users/elicialow/Desktop/BT4103/github/plagiarism-detector/lambda_venv/lib/python3.8/site-packages/tqdm/auto.py:21: TqdmWarning: IProgress not found. Please update jupyter and ipywidgets. See https://ipywidgets.readthedocs.io/en/stable/user_install.html\n",
      "  from .autonotebook import tqdm as notebook_tqdm\n",
      "/Users/elicialow/Desktop/BT4103/github/plagiarism-detector/app/compiled_functions.py:538: FutureWarning: The frame.append method is deprecated and will be removed from pandas in a future version. Use pandas.concat instead.\n",
      "  training_df = training_df.append(data, ignore_index=True)\n",
      "/Users/elicialow/Desktop/BT4103/github/plagiarism-detector/app/compiled_functions.py:544: FutureWarning: The frame.append method is deprecated and will be removed from pandas in a future version. Use pandas.concat instead.\n",
      "  training_df = training_df.append(data, ignore_index=True)\n"
     ]
    },
    {
     "data": {
      "text/plain": [
       "{'statusCode': 200,\n",
       " 'success': True,\n",
       " 'body': [{'input_doc_name': 'input_string_name',\n",
       "   'plagiarism_flag': '0',\n",
       "   'plagiarism_score': 0.3540011421643601,\n",
       "   'plagiarised_text': [{'sentence': 'Anyone who finds pleasure in poetic pains, the other thirteen add a task would be to me that the taste of bad luck',\n",
       "     'start_char_index': 1,\n",
       "     'end_char_index': 114,\n",
       "     'source_sentence': 'Anybody who finds pleasure in poetic pains may add the other thirteen; to me such a task would savour of bad luck',\n",
       "     'source_doc_name': 'Russian source 1',\n",
       "     'score': 0.8686222434043884}]}]}"
      ]
     },
     "execution_count": 3,
     "metadata": {},
     "output_type": "execute_result"
    }
   ],
   "source": [
    "lambda_handler(events, context='')"
   ]
  },
  {
   "cell_type": "code",
   "execution_count": 4,
   "metadata": {},
   "outputs": [],
   "source": [
    "from sentence_transformers import SentenceTransformer\n",
    "model = SentenceTransformer('models/trained_bert_model.h5')"
   ]
  },
  {
   "cell_type": "code",
   "execution_count": 25,
   "metadata": {},
   "outputs": [
    {
     "ename": "NameError",
     "evalue": "name 'source_doc_name' is not defined",
     "output_type": "error",
     "traceback": [
      "\u001b[0;31m---------------------------------------------------------------------------\u001b[0m",
      "\u001b[0;31mNameError\u001b[0m                                 Traceback (most recent call last)",
      "Cell \u001b[0;32mIn[25], line 2\u001b[0m\n\u001b[1;32m      1\u001b[0m input_text_lst \u001b[39m=\u001b[39m get_preprocessed_sent(input_doc)\n\u001b[0;32m----> 2\u001b[0m direct_output, match_lst \u001b[39m=\u001b[39m get_matching_texts(input_text_lst, source_doc, source_doc_name)\n\u001b[1;32m      4\u001b[0m nonmatch_lst \u001b[39m=\u001b[39m get_non_direct_texts(input_text_lst, match_lst)\n\u001b[1;32m      5\u001b[0m sentence_trans_model \u001b[39m=\u001b[39m load_model(sentbert_model_name)\n",
      "\u001b[0;31mNameError\u001b[0m: name 'source_doc_name' is not defined"
     ]
    }
   ],
   "source": [
    "input_text_lst = get_preprocessed_sent(input_doc)\n",
    "direct_output, match_lst = get_matching_texts(input_text_lst, source_doc, source_doc_name)\n",
    "\n",
    "nonmatch_lst = get_non_direct_texts(input_text_lst, match_lst)\n",
    "sentence_trans_model = load_model(sentbert_model_name)\n",
    "paraphrase_output = get_paraphrase_predictions(sentence_trans_model, nonmatch_lst, source_doc, source_doc_name, 0.7)"
   ]
  },
  {
   "cell_type": "code",
   "execution_count": 6,
   "metadata": {},
   "outputs": [],
   "source": [
    "from compiled_functions import *"
   ]
  },
  {
   "cell_type": "code",
   "execution_count": 28,
   "metadata": {},
   "outputs": [
    {
     "name": "stdout",
     "output_type": "stream",
     "text": [
      "['Anybody who finds pleasure in poetic pains may add the other thirteen; to me such a task would savour of bad luck']\n",
      "0.8686222434043884\n"
     ]
    }
   ],
   "source": [
    "input_doc = events['input_doc']\n",
    "nonmatch_lst = get_preprocessed_sent(input_doc)\n",
    "source_doc = events['source_docs'][0]['source_doc']\n",
    "threshold = 0.10\n",
    "\n",
    "res_list = []\n",
    "try:\n",
    "    source_sent = re.split(r' *[\\.\\?!][\\'\"\\)\\]]* *', source_doc)\n",
    "    source_sent = [text for text in source_sent if text]\n",
    "    print(source_sent)\n",
    "\n",
    "    for input_sent_dict in nonmatch_lst:\n",
    "        input_sent = input_sent_dict['sentence']\n",
    "        if len(input_sent.split()) <= 3:\n",
    "            continue\n",
    "\n",
    "        source_embeddings = model.encode(source_sent)\n",
    "        input_embeddings = model.encode(input_sent)\n",
    "\n",
    "        res = cosine_similarity(\n",
    "                [input_embeddings],\n",
    "                source_embeddings\n",
    "            )\n",
    "\n",
    "        score = float(max(res[0]))\n",
    "        print(score)\n",
    "\n",
    "        if score > threshold:\n",
    "            temp = input_sent_dict\n",
    "            temp['source_sentence'] = source_sent[res[0].argmax()]\n",
    "            temp['source_doc_name'] = source_doc_name\n",
    "            temp['score'] = score\n",
    "            res_list.append(temp)\n",
    "except:\n",
    "    pass"
   ]
  },
  {
   "cell_type": "code",
   "execution_count": 17,
   "metadata": {},
   "outputs": [
    {
     "data": {
      "text/plain": [
       "'Though somehwat surprised at his request, the Irish cheftains immediately complied with it, and the young men were slain'"
      ]
     },
     "execution_count": 17,
     "metadata": {},
     "output_type": "execute_result"
    }
   ],
   "source": [
    "0.698572039604187"
   ]
  },
  {
   "cell_type": "code",
   "execution_count": null,
   "metadata": {},
   "outputs": [],
   "source": []
  }
 ],
 "metadata": {
  "kernelspec": {
   "display_name": "lambda_venv",
   "language": "python",
   "name": "python3"
  },
  "language_info": {
   "codemirror_mode": {
    "name": "ipython",
    "version": 3
   },
   "file_extension": ".py",
   "mimetype": "text/x-python",
   "name": "python",
   "nbconvert_exporter": "python",
   "pygments_lexer": "ipython3",
   "version": "3.8.9"
  },
  "orig_nbformat": 4
 },
 "nbformat": 4,
 "nbformat_minor": 2
}
