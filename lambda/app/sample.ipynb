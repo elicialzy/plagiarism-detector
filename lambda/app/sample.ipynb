{
 "cells": [
  {
   "cell_type": "code",
   "execution_count": 3,
   "metadata": {},
   "outputs": [
    {
     "name": "stdout",
     "output_type": "stream",
     "text": [
      "Loading function\n"
     ]
    }
   ],
   "source": [
    "from plagiarism_detector import lambda_handler\n",
    "from compiled_functions import *"
   ]
  },
  {
   "cell_type": "code",
   "execution_count": 4,
   "metadata": {},
   "outputs": [],
   "source": [
    "event = {\n",
    "    \"input_doc_name\": \"input_file_4481\",\n",
    "    \"input_doc\": \"Pride Russians suffered accordingly. While naturally precedes dramatic art poetry, drama, on the other hand, can achieve a degree of excellence where the theater is in a miserable state. It is now barely half a century from the beginning was an effort to remove all the lack of scientific culture in the Russian nation, but what are fifty years for such purpose, in a country so huge? The number of received scientific stimulus and was carried to a degree of intellectual sophistication is very low, and a happy accident that is genius among the small number must be very rare. And in this respect, it is noteworthy that the Russians who feels called to the artistic production almost always show a trend of view of epic composition. Difficulties as the Russian seem terrible. In love, written as he embarrasses less and therefore have almost all the throws in the making of novels. As is generally the case in the early literature of every nation, every writer in Russia is taken for a miracle, and looked with astonishment. Kukolnik playwright is an example. He wrote a good deal for the theater, but nothing is as it should be praised as much as his zeal in imitation. It must be admitted that in this he possesses a remarkable degree of dexterity. He soon became the area's favorite love, but this also he shows weakness at the national level. In each of his numerous works the most striking feature is the lack of organization. They were completed with no beginning and author ever thought a plot, or mode of treatment. Kukolnik it \\\"\\\"Alf and Adoni\\\"\\\", in which at least one hundred and fifty characters are brought on stage, is not one whose appearance is designed to focus public interest. Each comes to show, and not just go to any more. Everything is described and explained with equal minuteness, the pile of sprouts on the roadside, to kill a prince, and instead of a historical action is nothing but details are not related. The same is the case of \\\"\\\"Eveline and Baillerole, the Cardinal Richelieu is represented as a destroyer of the aristocracy, which also consists of many foreign scenes, which are, of course, do some cleaning. These observations apply to the work of Iwan Boriczewski Wanenko and I. I Zchewen's \\\"\\\"Sunshine\\\"\\\", five volumes strong, the compositions of Wolkow, Czerujawski, Ulitinins, Th. Van Dim, (a pseudonym), in fact, everything appeared yet. On one side of the imperial family, as I said, everything was done for the Russian stage that could be done, and is no where else.\",\n",
    "    \"user_id\": \"test_123\"\n",
    "}\n",
    "\n",
    "input_doc_name = event['input_doc_name']\n",
    "input_doc = event['input_doc']\n",
    "user_id = event['user_id']"
   ]
  },
  {
   "cell_type": "code",
   "execution_count": 5,
   "metadata": {},
   "outputs": [
    {
     "name": "stderr",
     "output_type": "stream",
     "text": [
      "/Users/elicialow/Desktop/BT4103/github/plagiarism-detector/lambda_venv/lib/python3.8/site-packages/tqdm/auto.py:21: TqdmWarning: IProgress not found. Please update jupyter and ipywidgets. See https://ipywidgets.readthedocs.io/en/stable/user_install.html\n",
      "  from .autonotebook import tqdm as notebook_tqdm\n"
     ]
    },
    {
     "name": "stdout",
     "output_type": "stream",
     "text": [
      "        c_1       c_4       c_5  lcs_word  para_detect_score  \\\n",
      "0  0.651807  0.152913  0.121655  0.004462           0.208331   \n",
      "\n",
      "   direct_detect_score  \n",
      "0             0.147146  \n"
     ]
    },
    {
     "data": {
      "text/plain": [
       "{'input_doc_name': 'input_file_4481',\n",
       " 'plagiarism_flag': 0,\n",
       " 'plagiarism_score': 0.3598100807195522,\n",
       " 'plagiarised_text': [{'sentence': 'Pride Russians suffered accordingly',\n",
       "   'start_char_index': 1,\n",
       "   'end_char_index': 35,\n",
       "   'source_sentence': 'The pride of the Russians did not suffer in consequence',\n",
       "   'source_doc_name': 4875,\n",
       "   'score': 0.747011661529541},\n",
       "  {'sentence': 'While naturally precedes dramatic art poetry, drama, on the other hand, can achieve a degree of excellence where the theater is in a miserable state',\n",
       "   'start_char_index': 36,\n",
       "   'end_char_index': 183,\n",
       "   'source_sentence': 'achieve degree of excellence where the theater is in a miserable state ',\n",
       "   'source_doc_name': 4875,\n",
       "   'score': 0.7241072696029361},\n",
       "  {'sentence': 'It is now barely half a century from the beginning was an effort to remove all the lack of scientific culture in the Russian nation, but what are fifty years for such purpose, in a country so huge',\n",
       "   'start_char_index': 184,\n",
       "   'end_char_index': 379,\n",
       "   'source_sentence': 'lack scientific culture in the Russian nation, but what are fifty years for such purpose country',\n",
       "   'source_doc_name': 4875,\n",
       "   'score': 0.7799154245579977},\n",
       "  {'sentence': 'The number of received scientific stimulus and was carried to a degree of intellectual sophistication is very low, and a happy accident that is genius among the small number must be very rare',\n",
       "   'start_char_index': 380,\n",
       "   'end_char_index': 570,\n",
       "   'source_sentence': 'number received scientific stimulus and was carried to a degree of intellectual sophistication',\n",
       "   'source_doc_name': 4875,\n",
       "   'score': 0.5666441608108926},\n",
       "  {'sentence': 'And in this respect, it is noteworthy that the Russians who feels called to the artistic production almost always show a trend of view of epic composition',\n",
       "   'start_char_index': 571,\n",
       "   'end_char_index': 724,\n",
       "   'source_sentence': 'respect noteworthy that the Russians who feels called to the artistic production almost always show trend',\n",
       "   'source_doc_name': 4875,\n",
       "   'score': 0.561197201439235},\n",
       "  {'sentence': 'In love, written as he embarrasses less and therefore have almost all the throws in the making of novels',\n",
       "   'start_char_index': 766,\n",
       "   'end_char_index': 869,\n",
       "   'source_sentence': 'In romance-writing the form embarrasses\\nhim less, and accordingly they almost all throw themselves into the making of novels',\n",
       "   'source_doc_name': 4875,\n",
       "   'score': 0.8257603645324707},\n",
       "  {'sentence': 'As is generally the case in the early literature of every nation, every writer in Russia is taken for a miracle, and looked with astonishment',\n",
       "   'start_char_index': 870,\n",
       "   'end_char_index': 1010,\n",
       "   'source_sentence': \"\\n\\nAs is generally the case in the beginning of every nation's literature, any writer in Russia\\nis taken for a miracle, and regarded with stupor\",\n",
       "   'source_doc_name': 4875,\n",
       "   'score': 0.9195905923843384},\n",
       "  {'sentence': 'Kukolnik playwright is an example',\n",
       "   'start_char_index': 1011,\n",
       "   'end_char_index': 1043,\n",
       "   'source_sentence': 'The dramatist Kukolnik is an example of this',\n",
       "   'source_doc_name': 4875,\n",
       "   'score': 0.8679974675178528},\n",
       "  {'sentence': 'He wrote a good deal for the theater, but nothing is as it should be praised as much as his zeal in imitation',\n",
       "   'start_char_index': 1044,\n",
       "   'end_char_index': 1152,\n",
       "   'source_sentence': 'good deal for the theater, but nothing is as it should be praised as much as his zeal in imitation ',\n",
       "   'source_doc_name': 4875,\n",
       "   'score': 0.6338813360649694},\n",
       "  {'sentence': 'It must be admitted that in this he possesses a remarkable degree of dexterity',\n",
       "   'start_char_index': 1153,\n",
       "   'end_char_index': 1230,\n",
       "   'source_sentence': ' must be admitted that in this he possesses a remarkable degree of dexterity ',\n",
       "   'source_doc_name': 4875,\n",
       "   'score': 0.8673636849609286},\n",
       "  {'sentence': \"He soon became the area's favorite love, but this also he shows weakness at the national level\",\n",
       "   'start_char_index': 1231,\n",
       "   'end_char_index': 1324,\n",
       "   'source_sentence': 'He soon turned to the favorite sphere of romance writing, but in this also he manifests\\nthe national weakness',\n",
       "   'source_doc_name': 4875,\n",
       "   'score': 0.7065510749816895},\n",
       "  {'sentence': 'In each of his numerous works the most striking feature is the lack of organization',\n",
       "   'start_char_index': 1325,\n",
       "   'end_char_index': 1407,\n",
       "   'source_sentence': 'numerous works the most striking feature is the lack of organization ',\n",
       "   'source_doc_name': 4875,\n",
       "   'score': 0.8037311277734125},\n",
       "  {'sentence': 'They were completed with no beginning and author ever thought a plot, or mode of treatment',\n",
       "   'start_char_index': 1408,\n",
       "   'end_char_index': 1497,\n",
       "   'source_sentence': \"They were begun and completed without their author's ever thinking out\\na plot, or its mode of treatment\",\n",
       "   'source_doc_name': 4875,\n",
       "   'score': 0.8010861277580261},\n",
       "  {'sentence': 'Kukolnik it \"\"Alf and Adoni\"\", in which at least one hundred and fifty characters are brought on stage, is not one whose appearance is designed to focus public interest',\n",
       "   'start_char_index': 1498,\n",
       "   'end_char_index': 1665,\n",
       "   'source_sentence': ' Kukolnik it \"\"Alf and Adoni\"\", in which at least one hundred and fifty characters are brought stage',\n",
       "   'source_doc_name': 4875,\n",
       "   'score': 0.7297273805759763},\n",
       "  {'sentence': 'Each comes to show, and not just go to any more',\n",
       "   'start_char_index': 1666,\n",
       "   'end_char_index': 1712,\n",
       "   'source_sentence': 'Each comes in to show himself, and goes out not to be in the way any longer',\n",
       "   'source_doc_name': 4875,\n",
       "   'score': 0.7306857705116272},\n",
       "  {'sentence': 'Everything is described and explained with equal minuteness, the pile of sprouts on the roadside, to kill a prince, and instead of a historical action is nothing but details are not related',\n",
       "   'start_char_index': 1713,\n",
       "   'end_char_index': 1901,\n",
       "   'source_sentence': ' Everything is described and explained with equal minuteness, the pile sprouts',\n",
       "   'source_doc_name': 4875,\n",
       "   'score': 0.7241072696029361},\n",
       "  {'sentence': 'The same is the case of \"\"Eveline and Baillerole, the Cardinal Richelieu is represented as a destroyer of the aristocracy, which also consists of many foreign scenes, which are, of course, do some cleaning',\n",
       "   'start_char_index': 1902,\n",
       "   'end_char_index': 2106,\n",
       "   'source_sentence': ' same is the case of \"\"Eveline and Baillerole, the Cardinal Richelieu is represented as a destroyer of the aristocracy, which also consists',\n",
       "   'source_doc_name': 4875,\n",
       "   'score': 0.7758368243802486},\n",
       "  {'sentence': 'These observations apply to the work of Iwan Boriczewski Wanenko and I',\n",
       "   'start_char_index': 2107,\n",
       "   'end_char_index': 2176,\n",
       "   'source_sentence': 'These remarks apply to the works\\nof Iwan Wanenko and I',\n",
       "   'source_doc_name': 4875,\n",
       "   'score': 0.8757376670837402},\n",
       "  {'sentence': 'I Zchewen\\'s \"\"Sunshine\"\", five volumes strong, the compositions of Wolkow, Czerujawski, Ulitinins, Th',\n",
       "   'start_char_index': 2177,\n",
       "   'end_char_index': 2277,\n",
       "   'source_sentence': ' Zchewen\\'s \"\"Sunshine\"\", five volumes strong, the compositions of Wolkow, Czerujawski, Ulitinins, Th ',\n",
       "   'source_doc_name': 4875,\n",
       "   'score': 0.81818020736672},\n",
       "  {'sentence': 'Van Dim, (a pseudonym), in fact, everything appeared yet',\n",
       "   'start_char_index': 2278,\n",
       "   'end_char_index': 2333,\n",
       "   'source_sentence': ' Van Dim, (a pseudonym), in fact, everything appeared',\n",
       "   'source_doc_name': 4875,\n",
       "   'score': 0.615218690896332},\n",
       "  {'sentence': 'On one side of the imperial family, as I said, everything was done for the Russian stage that could be done, and is no where else',\n",
       "   'start_char_index': 2334,\n",
       "   'end_char_index': 2462,\n",
       "   'source_sentence': 'family said, everything was done for the Russian stage that could where',\n",
       "   'source_doc_name': 4875,\n",
       "   'score': 0.5666441608108926}]}"
      ]
     },
     "execution_count": 5,
     "metadata": {},
     "output_type": "execute_result"
    }
   ],
   "source": [
    "response = get_one_many_matching_output(sentbert_model_name, final_model_name, ngrams_lst, input_doc, input_doc_name)\n",
    "response"
   ]
  },
  {
   "cell_type": "code",
   "execution_count": 6,
   "metadata": {},
   "outputs": [
    {
     "name": "stdout",
     "output_type": "stream",
     "text": [
      "        c_1       c_4       c_5  lcs_word  para_detect_score  \\\n",
      "0  0.651807  0.152913  0.121655  0.004462           0.208331   \n",
      "\n",
      "   direct_detect_score  \n",
      "0             0.147146  \n"
     ]
    },
    {
     "data": {
      "text/plain": [
       "{'input_doc_name': 'input_file_4481',\n",
       " 'plagiarism_flag': 0,\n",
       " 'plagiarism_score': 0.3598100807195522,\n",
       " 'plagiarised_text': [{'sentence': 'Pride Russians suffered accordingly',\n",
       "   'start_char_index': 1,\n",
       "   'end_char_index': 35,\n",
       "   'source_sentence': 'The pride of the Russians did not suffer in consequence',\n",
       "   'source_doc_name': 4875,\n",
       "   'score': 0.747011661529541},\n",
       "  {'sentence': 'While naturally precedes dramatic art poetry, drama, on the other hand, can achieve a degree of excellence where the theater is in a miserable state',\n",
       "   'start_char_index': 36,\n",
       "   'end_char_index': 183,\n",
       "   'source_sentence': 'achieve degree of excellence where the theater is in a miserable state ',\n",
       "   'source_doc_name': 4875,\n",
       "   'score': 0.7241072696029361},\n",
       "  {'sentence': 'It is now barely half a century from the beginning was an effort to remove all the lack of scientific culture in the Russian nation, but what are fifty years for such purpose, in a country so huge',\n",
       "   'start_char_index': 184,\n",
       "   'end_char_index': 379,\n",
       "   'source_sentence': 'lack scientific culture in the Russian nation, but what are fifty years for such purpose country',\n",
       "   'source_doc_name': 4875,\n",
       "   'score': 0.7799154245579977},\n",
       "  {'sentence': 'The number of received scientific stimulus and was carried to a degree of intellectual sophistication is very low, and a happy accident that is genius among the small number must be very rare',\n",
       "   'start_char_index': 380,\n",
       "   'end_char_index': 570,\n",
       "   'source_sentence': 'number received scientific stimulus and was carried to a degree of intellectual sophistication',\n",
       "   'source_doc_name': 4875,\n",
       "   'score': 0.5666441608108926},\n",
       "  {'sentence': 'And in this respect, it is noteworthy that the Russians who feels called to the artistic production almost always show a trend of view of epic composition',\n",
       "   'start_char_index': 571,\n",
       "   'end_char_index': 724,\n",
       "   'source_sentence': 'respect noteworthy that the Russians who feels called to the artistic production almost always show trend',\n",
       "   'source_doc_name': 4875,\n",
       "   'score': 0.561197201439235},\n",
       "  {'sentence': 'In love, written as he embarrasses less and therefore have almost all the throws in the making of novels',\n",
       "   'start_char_index': 766,\n",
       "   'end_char_index': 869,\n",
       "   'source_sentence': 'In romance-writing the form embarrasses\\nhim less, and accordingly they almost all throw themselves into the making of novels',\n",
       "   'source_doc_name': 4875,\n",
       "   'score': 0.8257603645324707},\n",
       "  {'sentence': 'As is generally the case in the early literature of every nation, every writer in Russia is taken for a miracle, and looked with astonishment',\n",
       "   'start_char_index': 870,\n",
       "   'end_char_index': 1010,\n",
       "   'source_sentence': \"\\n\\nAs is generally the case in the beginning of every nation's literature, any writer in Russia\\nis taken for a miracle, and regarded with stupor\",\n",
       "   'source_doc_name': 4875,\n",
       "   'score': 0.9195905923843384},\n",
       "  {'sentence': 'Kukolnik playwright is an example',\n",
       "   'start_char_index': 1011,\n",
       "   'end_char_index': 1043,\n",
       "   'source_sentence': 'The dramatist Kukolnik is an example of this',\n",
       "   'source_doc_name': 4875,\n",
       "   'score': 0.8679974675178528},\n",
       "  {'sentence': 'He wrote a good deal for the theater, but nothing is as it should be praised as much as his zeal in imitation',\n",
       "   'start_char_index': 1044,\n",
       "   'end_char_index': 1152,\n",
       "   'source_sentence': 'good deal for the theater, but nothing is as it should be praised as much as his zeal in imitation ',\n",
       "   'source_doc_name': 4875,\n",
       "   'score': 0.6338813360649694},\n",
       "  {'sentence': 'It must be admitted that in this he possesses a remarkable degree of dexterity',\n",
       "   'start_char_index': 1153,\n",
       "   'end_char_index': 1230,\n",
       "   'source_sentence': ' must be admitted that in this he possesses a remarkable degree of dexterity ',\n",
       "   'source_doc_name': 4875,\n",
       "   'score': 0.8673636849609286},\n",
       "  {'sentence': \"He soon became the area's favorite love, but this also he shows weakness at the national level\",\n",
       "   'start_char_index': 1231,\n",
       "   'end_char_index': 1324,\n",
       "   'source_sentence': 'He soon turned to the favorite sphere of romance writing, but in this also he manifests\\nthe national weakness',\n",
       "   'source_doc_name': 4875,\n",
       "   'score': 0.7065510749816895},\n",
       "  {'sentence': 'In each of his numerous works the most striking feature is the lack of organization',\n",
       "   'start_char_index': 1325,\n",
       "   'end_char_index': 1407,\n",
       "   'source_sentence': 'numerous works the most striking feature is the lack of organization ',\n",
       "   'source_doc_name': 4875,\n",
       "   'score': 0.8037311277734125},\n",
       "  {'sentence': 'They were completed with no beginning and author ever thought a plot, or mode of treatment',\n",
       "   'start_char_index': 1408,\n",
       "   'end_char_index': 1497,\n",
       "   'source_sentence': \"They were begun and completed without their author's ever thinking out\\na plot, or its mode of treatment\",\n",
       "   'source_doc_name': 4875,\n",
       "   'score': 0.8010861277580261},\n",
       "  {'sentence': 'Kukolnik it \"\"Alf and Adoni\"\", in which at least one hundred and fifty characters are brought on stage, is not one whose appearance is designed to focus public interest',\n",
       "   'start_char_index': 1498,\n",
       "   'end_char_index': 1665,\n",
       "   'source_sentence': ' Kukolnik it \"\"Alf and Adoni\"\", in which at least one hundred and fifty characters are brought stage',\n",
       "   'source_doc_name': 4875,\n",
       "   'score': 0.7297273805759763},\n",
       "  {'sentence': 'Each comes to show, and not just go to any more',\n",
       "   'start_char_index': 1666,\n",
       "   'end_char_index': 1712,\n",
       "   'source_sentence': 'Each comes in to show himself, and goes out not to be in the way any longer',\n",
       "   'source_doc_name': 4875,\n",
       "   'score': 0.7306857705116272},\n",
       "  {'sentence': 'Everything is described and explained with equal minuteness, the pile of sprouts on the roadside, to kill a prince, and instead of a historical action is nothing but details are not related',\n",
       "   'start_char_index': 1713,\n",
       "   'end_char_index': 1901,\n",
       "   'source_sentence': ' Everything is described and explained with equal minuteness, the pile sprouts',\n",
       "   'source_doc_name': 4875,\n",
       "   'score': 0.7241072696029361},\n",
       "  {'sentence': 'The same is the case of \"\"Eveline and Baillerole, the Cardinal Richelieu is represented as a destroyer of the aristocracy, which also consists of many foreign scenes, which are, of course, do some cleaning',\n",
       "   'start_char_index': 1902,\n",
       "   'end_char_index': 2106,\n",
       "   'source_sentence': ' same is the case of \"\"Eveline and Baillerole, the Cardinal Richelieu is represented as a destroyer of the aristocracy, which also consists',\n",
       "   'source_doc_name': 4875,\n",
       "   'score': 0.7758368243802486},\n",
       "  {'sentence': 'These observations apply to the work of Iwan Boriczewski Wanenko and I',\n",
       "   'start_char_index': 2107,\n",
       "   'end_char_index': 2176,\n",
       "   'source_sentence': 'These remarks apply to the works\\nof Iwan Wanenko and I',\n",
       "   'source_doc_name': 4875,\n",
       "   'score': 0.8757376670837402},\n",
       "  {'sentence': 'I Zchewen\\'s \"\"Sunshine\"\", five volumes strong, the compositions of Wolkow, Czerujawski, Ulitinins, Th',\n",
       "   'start_char_index': 2177,\n",
       "   'end_char_index': 2277,\n",
       "   'source_sentence': ' Zchewen\\'s \"\"Sunshine\"\", five volumes strong, the compositions of Wolkow, Czerujawski, Ulitinins, Th ',\n",
       "   'source_doc_name': 4875,\n",
       "   'score': 0.81818020736672},\n",
       "  {'sentence': 'Van Dim, (a pseudonym), in fact, everything appeared yet',\n",
       "   'start_char_index': 2278,\n",
       "   'end_char_index': 2333,\n",
       "   'source_sentence': ' Van Dim, (a pseudonym), in fact, everything appeared',\n",
       "   'source_doc_name': 4875,\n",
       "   'score': 0.615218690896332},\n",
       "  {'sentence': 'On one side of the imperial family, as I said, everything was done for the Russian stage that could be done, and is no where else',\n",
       "   'start_char_index': 2334,\n",
       "   'end_char_index': 2462,\n",
       "   'source_sentence': 'family said, everything was done for the Russian stage that could where',\n",
       "   'source_doc_name': 4875,\n",
       "   'score': 0.5666441608108926}]}"
      ]
     },
     "execution_count": 6,
     "metadata": {},
     "output_type": "execute_result"
    }
   ],
   "source": [
    "get_one_many_matching_output(sentbert_model_name, final_model_name, ngrams_lst, input_doc, input_doc_name)"
   ]
  },
  {
   "cell_type": "code",
   "execution_count": 4,
   "metadata": {},
   "outputs": [
    {
     "name": "stderr",
     "output_type": "stream",
     "text": [
      "/Users/elicialow/Desktop/BT4103/github/plagiarism-detector/app/compiled_functions.py:637: FutureWarning: The parsing of 'now' in pd.to_datetime without `utc=True` is deprecated. In a future version, this will match Timestamp('now') and Timestamp.now()\n",
      "  \"created_at\": pd.to_datetime('now').strftime(\"%Y-%m-%d %H:%M:%S\"),\n",
      "/Users/elicialow/Desktop/BT4103/github/plagiarism-detector/app/compiled_functions.py:647: FutureWarning: The frame.append method is deprecated and will be removed from pandas in a future version. Use pandas.concat instead.\n",
      "  output_df = output_df.append(data, ignore_index=True)\n"
     ]
    }
   ],
   "source": [
    "add_output_data(user_id, input_doc, input_doc_name, response, \"1-n\", s3_bucket, s3_output_data_filepath, source_docs=\"\")"
   ]
  },
  {
   "cell_type": "code",
   "execution_count": 8,
   "metadata": {},
   "outputs": [],
   "source": [
    "source_docs = [\n",
    "    {\n",
    "    \"source_doc_name\": '4875',\n",
    "    \"source_doc\": \"The pride of the Russians did not suffer in consequence. While poetry naturally precedes dramatic art, the drama, on the other hand, cannot attain andegree of excellence where the theater is in such a miserable state. It is now scarcely half a century since the effort was begun to remove the total want of scientific culture in the Russian nation, but what are fifty years for such a purpose, in so enormous a country? The number of those who have received the scientific stimulus and been carried to a degree of intellectual refinement is very small, and the happy accident by which a man of genius appears among the small number must be very rare. And in this connection it is noteworthy, that the Russian who feels himself called to artistic production almost always shows a tendency to epic composition.\"\n",
    "    }\n",
    "]"
   ]
  },
  {
   "cell_type": "code",
   "execution_count": 11,
   "metadata": {},
   "outputs": [
    {
     "name": "stderr",
     "output_type": "stream",
     "text": [
      "/Users/elicialow/Desktop/BT4103/github/plagiarism-detector/app/compiled_functions.py:607: FutureWarning: The frame.append method is deprecated and will be removed from pandas in a future version. Use pandas.concat instead.\n",
      "  training_df = training_df.append(data, ignore_index=True)\n",
      "/Users/elicialow/Desktop/BT4103/github/plagiarism-detector/app/compiled_functions.py:613: FutureWarning: The frame.append method is deprecated and will be removed from pandas in a future version. Use pandas.concat instead.\n",
      "  training_df = training_df.append(data, ignore_index=True)\n"
     ]
    },
    {
     "ename": "TypeError",
     "evalue": "list indices must be integers or slices, not str",
     "output_type": "error",
     "traceback": [
      "\u001b[0;31m---------------------------------------------------------------------------\u001b[0m",
      "\u001b[0;31mTypeError\u001b[0m                                 Traceback (most recent call last)",
      "Cell \u001b[0;32mIn[11], line 2\u001b[0m\n\u001b[1;32m      1\u001b[0m one_response \u001b[39m=\u001b[39m get_one_one_matching_output(sentbert_model_name, final_model_name, ngrams_lst, source_docs, input_doc, input_doc_name)\n\u001b[0;32m----> 2\u001b[0m add_output_data(user_id, input_doc, input_doc_name, one_response, \u001b[39m\"\u001b[39;49m\u001b[39m1-1\u001b[39;49m\u001b[39m\"\u001b[39;49m, s3_bucket, s3_output_data_filepath, source_docs)\n",
      "File \u001b[0;32m~/Desktop/BT4103/github/plagiarism-detector/app/compiled_functions.py:629\u001b[0m, in \u001b[0;36madd_output_data\u001b[0;34m(user_id, input_doc, input_doc_name, response, matching_type, s3_bucket, s3_output_data_filepath, source_docs)\u001b[0m\n\u001b[1;32m    620\u001b[0m \u001b[39mdef\u001b[39;00m \u001b[39madd_output_data\u001b[39m(user_id, input_doc, input_doc_name, response, matching_type, s3_bucket, s3_output_data_filepath, source_docs\u001b[39m=\u001b[39m\u001b[39m\"\u001b[39m\u001b[39m\"\u001b[39m):\n\u001b[1;32m    621\u001b[0m     output_df \u001b[39m=\u001b[39m read_s3_df(s3_bucket, s3_output_data_filepath)\n\u001b[1;32m    623\u001b[0m     data \u001b[39m=\u001b[39m {\n\u001b[1;32m    624\u001b[0m             \u001b[39m\"\u001b[39m\u001b[39mmatching_type\u001b[39m\u001b[39m\"\u001b[39m: matching_type,\n\u001b[1;32m    625\u001b[0m             \u001b[39m\"\u001b[39m\u001b[39muser_id\u001b[39m\u001b[39m\"\u001b[39m: user_id,\n\u001b[1;32m    626\u001b[0m             \u001b[39m\"\u001b[39m\u001b[39msource_docs\u001b[39m\u001b[39m\"\u001b[39m: source_docs,\n\u001b[1;32m    627\u001b[0m             \u001b[39m\"\u001b[39m\u001b[39minput_doc\u001b[39m\u001b[39m\"\u001b[39m: input_doc,\n\u001b[1;32m    628\u001b[0m             \u001b[39m\"\u001b[39m\u001b[39minput_doc_name\u001b[39m\u001b[39m\"\u001b[39m: input_doc_name,\n\u001b[0;32m--> 629\u001b[0m             \u001b[39m\"\u001b[39m\u001b[39mplagiarism_flag\u001b[39m\u001b[39m\"\u001b[39m: response[\u001b[39m\"\u001b[39;49m\u001b[39mplagiarism_flag\u001b[39;49m\u001b[39m\"\u001b[39;49m],\n\u001b[1;32m    630\u001b[0m             \u001b[39m\"\u001b[39m\u001b[39mplagiarism_score\u001b[39m\u001b[39m\"\u001b[39m: response[\u001b[39m\"\u001b[39m\u001b[39mplagiarism_score\u001b[39m\u001b[39m\"\u001b[39m],\n\u001b[1;32m    631\u001b[0m             \u001b[39m\"\u001b[39m\u001b[39mplagiarised_text\u001b[39m\u001b[39m\"\u001b[39m: response[\u001b[39m\"\u001b[39m\u001b[39mplagiarised_text\u001b[39m\u001b[39m\"\u001b[39m]\n\u001b[1;32m    632\u001b[0m         }\n\u001b[1;32m    633\u001b[0m     output_df \u001b[39m=\u001b[39m output_df\u001b[39m.\u001b[39mappend(data, ignore_index\u001b[39m=\u001b[39m\u001b[39mTrue\u001b[39;00m) \n\u001b[1;32m    635\u001b[0m     output_df\u001b[39m.\u001b[39mto_csv(\u001b[39m'\u001b[39m\u001b[39m/tmp/output.csv\u001b[39m\u001b[39m'\u001b[39m, index\u001b[39m=\u001b[39m\u001b[39mFalse\u001b[39;00m)\n",
      "\u001b[0;31mTypeError\u001b[0m: list indices must be integers or slices, not str"
     ]
    }
   ],
   "source": [
    "one_response = get_one_one_matching_output(sentbert_model_name, final_model_name, ngrams_lst, source_docs, input_doc, input_doc_name)\n"
   ]
  },
  {
   "cell_type": "code",
   "execution_count": 13,
   "metadata": {},
   "outputs": [
    {
     "name": "stderr",
     "output_type": "stream",
     "text": [
      "/Users/elicialow/Desktop/BT4103/github/plagiarism-detector/app/compiled_functions.py:633: FutureWarning: The frame.append method is deprecated and will be removed from pandas in a future version. Use pandas.concat instead.\n",
      "  output_df = output_df.append(data, ignore_index=True)\n"
     ]
    }
   ],
   "source": [
    "for resp in one_response:\n",
    "    add_output_data(user_id, input_doc, input_doc_name, resp, \"1-1\", s3_bucket, s3_output_data_filepath, source_docs)"
   ]
  },
  {
   "cell_type": "code",
   "execution_count": 5,
   "metadata": {},
   "outputs": [
    {
     "ename": "KeyError",
     "evalue": "'queryStringParameters'",
     "output_type": "error",
     "traceback": [
      "\u001b[0;31m---------------------------------------------------------------------------\u001b[0m",
      "\u001b[0;31mKeyError\u001b[0m                                  Traceback (most recent call last)",
      "Cell \u001b[0;32mIn[5], line 20\u001b[0m\n\u001b[1;32m      1\u001b[0m event \u001b[39m=\u001b[39m {\n\u001b[1;32m      2\u001b[0m     \u001b[39m\"\u001b[39m\u001b[39minput_doc_name\u001b[39m\u001b[39m\"\u001b[39m: \u001b[39m\"\u001b[39m\u001b[39minput_string_name\u001b[39m\u001b[39m\"\u001b[39m,\n\u001b[1;32m      3\u001b[0m     \u001b[39m\"\u001b[39m\u001b[39minput_doc\u001b[39m\u001b[39m\"\u001b[39m: \u001b[39m\"\u001b[39m\u001b[39mPride Russians suffered accordingly.  While naturally precedes dramatic art poetry, drama, on the other hand, can achieve a degree of excellence where the theater is in a miserable state. It is now barely half a century from the beginning was an effort to remove all the lack of scientific culture in the Russian nation, but what are fifty years for such purpose, in a country so huge? The number of received scientific stimulus and was carried to a degree of intellectual sophistication is very low, and a happy accident that is genius among the small number must be very rare. And in this respect, it is noteworthy that the Russians who feels called to the artistic production almost always show a trend of view of epic composition.  Difficulties as the Russian seem terrible. In love, written as he embarrasses less and therefore have almost all the throws in the making of novels.  As is generally the case in the early literature of every nation, every writer in Russia is taken for a miracle, and looked with astonishment. Kukolnik playwright is an example. He wrote a good deal for the theater, but nothing is as it should be praised as much as his zeal in imitation. It must be admitted that in this he possesses a remarkable degree of dexterity. He soon became the area\u001b[39m\u001b[39m'\u001b[39m\u001b[39ms favorite love, but this also he shows weakness at the national level. In each of his numerous works the most striking feature is the lack of organization. They were completed with no beginning and author ever thought a plot, or mode of treatment\u001b[39m\u001b[39m\"\u001b[39m,\n\u001b[0;32m   (...)\u001b[0m\n\u001b[1;32m     15\u001b[0m     \u001b[39m\"\u001b[39m\u001b[39mmatching_type\u001b[39m\u001b[39m\"\u001b[39m: \u001b[39m\"\u001b[39m\u001b[39m1-many\u001b[39m\u001b[39m\"\u001b[39m\n\u001b[1;32m     16\u001b[0m }\n\u001b[1;32m     18\u001b[0m context \u001b[39m=\u001b[39m \u001b[39m'\u001b[39m\u001b[39m'\u001b[39m\n\u001b[0;32m---> 20\u001b[0m many_response \u001b[39m=\u001b[39m lambda_handler(event, context)\n",
      "File \u001b[0;32m~/Desktop/BT4103/github/plagiarism-detector/app/plagiarism_detector.py:18\u001b[0m, in \u001b[0;36mlambda_handler\u001b[0;34m(event, context)\u001b[0m\n\u001b[1;32m     15\u001b[0m response_object[\u001b[39m'\u001b[39m\u001b[39mheaders\u001b[39m\u001b[39m'\u001b[39m] \u001b[39m=\u001b[39m {}\n\u001b[1;32m     16\u001b[0m response_object[\u001b[39m'\u001b[39m\u001b[39mheaders\u001b[39m\u001b[39m'\u001b[39m][\u001b[39m'\u001b[39m\u001b[39mContent-Type\u001b[39m\u001b[39m'\u001b[39m] \u001b[39m=\u001b[39m \u001b[39m'\u001b[39m\u001b[39mapplication/json\u001b[39m\u001b[39m'\u001b[39m\n\u001b[0;32m---> 18\u001b[0m input_doc \u001b[39m=\u001b[39m event[\u001b[39m'\u001b[39;49m\u001b[39mqueryStringParameters\u001b[39;49m\u001b[39m'\u001b[39;49m][\u001b[39m'\u001b[39m\u001b[39minput_doc\u001b[39m\u001b[39m'\u001b[39m]\n\u001b[1;32m     19\u001b[0m input_doc_name \u001b[39m=\u001b[39m event[\u001b[39m'\u001b[39m\u001b[39mqueryStringParameters\u001b[39m\u001b[39m'\u001b[39m][\u001b[39m'\u001b[39m\u001b[39minput_doc_name\u001b[39m\u001b[39m'\u001b[39m]\n\u001b[1;32m     20\u001b[0m source_docs \u001b[39m=\u001b[39m event[\u001b[39m'\u001b[39m\u001b[39mqueryStringParameters\u001b[39m\u001b[39m'\u001b[39m][\u001b[39m'\u001b[39m\u001b[39msource_docs\u001b[39m\u001b[39m'\u001b[39m]\n",
      "\u001b[0;31mKeyError\u001b[0m: 'queryStringParameters'"
     ]
    }
   ],
   "source": [
    "event = {\n",
    "    \"input_doc_name\": \"input_string_name\",\n",
    "    \"input_doc\": \"Pride Russians suffered accordingly.  While naturally precedes dramatic art poetry, drama, on the other hand, can achieve a degree of excellence where the theater is in a miserable state. It is now barely half a century from the beginning was an effort to remove all the lack of scientific culture in the Russian nation, but what are fifty years for such purpose, in a country so huge? The number of received scientific stimulus and was carried to a degree of intellectual sophistication is very low, and a happy accident that is genius among the small number must be very rare. And in this respect, it is noteworthy that the Russians who feels called to the artistic production almost always show a trend of view of epic composition.  Difficulties as the Russian seem terrible. In love, written as he embarrasses less and therefore have almost all the throws in the making of novels.  As is generally the case in the early literature of every nation, every writer in Russia is taken for a miracle, and looked with astonishment. Kukolnik playwright is an example. He wrote a good deal for the theater, but nothing is as it should be praised as much as his zeal in imitation. It must be admitted that in this he possesses a remarkable degree of dexterity. He soon became the area's favorite love, but this also he shows weakness at the national level. In each of his numerous works the most striking feature is the lack of organization. They were completed with no beginning and author ever thought a plot, or mode of treatment\",\n",
    "    \"source_docs\": [\n",
    "        {\n",
    "        \"source_doc_name\": \"Russian source 1\",\n",
    "        \"source_doc\": \"achieve degree of excellence where the theater is in a miserable state\"\n",
    "        },\n",
    "\n",
    "        {\n",
    "        \"source_doc\": \"achieve degree of excellence where the theater is in a miserable state\",\n",
    "        \"source_doc_name\": \"Russian source 2\",\n",
    "        }\n",
    "    ],\n",
    "    \"matching_type\": \"1-many\"\n",
    "}\n",
    "\n",
    "context = ''\n",
    "\n",
    "many_response = lambda_handler(event, context)"
   ]
  },
  {
   "cell_type": "code",
   "execution_count": 3,
   "metadata": {},
   "outputs": [
    {
     "data": {
      "text/plain": [
       "{'headers': {'Content-Type': 'application/json'},\n",
       " 'statusCode': 200,\n",
       " 'success': True,\n",
       " 'body': {'input_doc_name': 'input_string_name',\n",
       "  'plagiarism_flag': '0',\n",
       "  'plagiarism_score': 0.30969695066252084,\n",
       "  'plagiarised_text': [{'sentence': 'While naturally precedes dramatic art poetry, drama, on the other hand, can achieve a degree of excellence where the theater is in a miserable state',\n",
       "    'start_char_index': 36,\n",
       "    'end_char_index': 183,\n",
       "    'source_sentence': 'hand achieve a degree of excellence where the theater is in a miserable state ',\n",
       "    'source_doc_name': 'Russian source 1',\n",
       "    'score': 0.9207401897413285},\n",
       "   {'sentence': 'While naturally precedes dramatic art poetry, drama, on the other hand, can achieve a degree of excellence where the theater is in a miserable state',\n",
       "    'start_char_index': 36,\n",
       "    'end_char_index': 183,\n",
       "    'source_sentence': 'hand achieve a degree of excellence where the theater is in a miserable state ',\n",
       "    'source_doc_name': 'Russian source 2',\n",
       "    'score': 0.9207401897413285}]}}"
      ]
     },
     "execution_count": 3,
     "metadata": {},
     "output_type": "execute_result"
    }
   ],
   "source": [
    "many_response"
   ]
  },
  {
   "cell_type": "code",
   "execution_count": 4,
   "metadata": {},
   "outputs": [
    {
     "name": "stdout",
     "output_type": "stream",
     "text": [
      "-0.007701870985329151\n",
      "0.2842426598072052\n",
      "0.9999999403953552\n",
      "0.4123450219631195\n",
      "0.3655587136745453\n",
      "0.15808069705963135\n",
      "0.1654045581817627\n",
      "0.5466952323913574\n",
      "-0.021073833107948303\n",
      "0.3044346868991852\n",
      "0.10668475925922394\n",
      "0.27875757217407227\n",
      "0.26631367206573486\n",
      "0.26034072041511536\n"
     ]
    }
   ],
   "source": [
    "event = {\n",
    "    \"input_doc_name\": \"input_string_name\",\n",
    "    \"input_doc\": \"Pride Russians suffered accordingly.  While naturally precedes dramatic art poetry, drama, on the other hand, can achieve a degree of excellence where the theater is in a miserable state. It is now barely half a century from the beginning was an effort to remove all the lack of scientific culture in the Russian nation, but what are fifty years for such purpose, in a country so huge? The number of received scientific stimulus and was carried to a degree of intellectual sophistication is very low, and a happy accident that is genius among the small number must be very rare. And in this respect, it is noteworthy that the Russians who feels called to the artistic production almost always show a trend of view of epic composition.  Difficulties as the Russian seem terrible. In love, written as he embarrasses less and therefore have almost all the throws in the making of novels.  As is generally the case in the early literature of every nation, every writer in Russia is taken for a miracle, and looked with astonishment. Kukolnik playwright is an example. He wrote a good deal for the theater, but nothing is as it should be praised as much as his zeal in imitation. It must be admitted that in this he possesses a remarkable degree of dexterity. He soon became the area's favorite love, but this also he shows weakness at the national level. In each of his numerous works the most striking feature is the lack of organization. They were completed with no beginning and author ever thought a plot, or mode of treatment\",\n",
    "    \"source_docs\": [\n",
    "        {\n",
    "        \"source_doc_name\": \"Russian source 1\",\n",
    "        \"source_doc\": \"It is now barely half a century from the beginning was an effort to remove all the lack of scientific culture in the Russian nation, but what are fifty years for such purpose, in a country so huge\"\n",
    "        },\n",
    "\n",
    "        {\n",
    "        \"source_doc\": \"achieve degree of excellence where the theater is in a miserable state\",\n",
    "        \"source_doc_name\": \"Russian source 2\",\n",
    "        }\n",
    "    ],\n",
    "    \"matching_type\": \"1-1\"\n",
    "}\n",
    "\n",
    "context = ''\n",
    "\n",
    "one_response = lambda_handler(event, context)"
   ]
  },
  {
   "cell_type": "code",
   "execution_count": 3,
   "metadata": {},
   "outputs": [
    {
     "ename": "NameError",
     "evalue": "name 'one_response' is not defined",
     "output_type": "error",
     "traceback": [
      "\u001b[0;31m---------------------------------------------------------------------------\u001b[0m",
      "\u001b[0;31mNameError\u001b[0m                                 Traceback (most recent call last)",
      "Cell \u001b[0;32mIn[3], line 1\u001b[0m\n\u001b[0;32m----> 1\u001b[0m one_response\n",
      "\u001b[0;31mNameError\u001b[0m: name 'one_response' is not defined"
     ]
    }
   ],
   "source": [
    "one_response"
   ]
  },
  {
   "cell_type": "code",
   "execution_count": 18,
   "metadata": {},
   "outputs": [
    {
     "data": {
      "text/plain": [
       "{'status_code': 200,\n",
       " 'success': True,\n",
       " 'body': {'input_doc_name': 'input_string_name',\n",
       "  'plagiarism_flag': 0,\n",
       "  'plagiarism_score': 0.30969695066252084,\n",
       "  'plagiarised_text': [{'sentence': 'While naturally precedes dramatic art poetry, drama, on the other hand, can achieve a degree of excellence where the theater is in a miserable state',\n",
       "    'start_char_index': 36,\n",
       "    'end_char_index': 183,\n",
       "    'source_sentence': 'hand achieve a degree of excellence where the theater is in a miserable state ',\n",
       "    'source_doc_name': 'Russian source 1',\n",
       "    'score': 0.9207401897413285},\n",
       "   {'sentence': 'While naturally precedes dramatic art poetry, drama, on the other hand, can achieve a degree of excellence where the theater is in a miserable state',\n",
       "    'start_char_index': 36,\n",
       "    'end_char_index': 183,\n",
       "    'source_sentence': 'hand achieve a degree of excellence where the theater is in a miserable state ',\n",
       "    'source_doc_name': 'Russian source 2',\n",
       "    'score': 0.9207401897413285}]}}"
      ]
     },
     "execution_count": 18,
     "metadata": {},
     "output_type": "execute_result"
    }
   ],
   "source": [
    "many_response"
   ]
  },
  {
   "cell_type": "code",
   "execution_count": 3,
   "metadata": {},
   "outputs": [
    {
     "ename": "TypeError",
     "evalue": "load_model() missing 1 required positional argument: 's3_filepath'",
     "output_type": "error",
     "traceback": [
      "\u001b[0;31m---------------------------------------------------------------------------\u001b[0m",
      "\u001b[0;31mTypeError\u001b[0m                                 Traceback (most recent call last)",
      "Cell \u001b[0;32mIn[3], line 12\u001b[0m\n\u001b[1;32m      9\u001b[0m direct_output, match_lst \u001b[39m=\u001b[39m get_matching_texts(input_text_lst, source_doc, source_doc_name)\n\u001b[1;32m     11\u001b[0m nonmatch_lst \u001b[39m=\u001b[39m get_non_direct_texts(input_text_lst, match_lst)\n\u001b[0;32m---> 12\u001b[0m sentence_trans_model \u001b[39m=\u001b[39m load_model(sentbert_model_name)\n\u001b[1;32m     13\u001b[0m paraphrase_output \u001b[39m=\u001b[39m get_paraphrase_predictions(sentence_trans_model, nonmatch_lst, source_doc, source_doc_name, \u001b[39m0.7\u001b[39m)\n\u001b[1;32m     14\u001b[0m paraphrase_output\n",
      "\u001b[0;31mTypeError\u001b[0m: load_model() missing 1 required positional argument: 's3_filepath'"
     ]
    }
   ],
   "source": [
    "input_doc = \"Although somewhat surprised at his request, met with immediate Irish chefs he and young people were killed.\"\n",
    "# input_doc = \"And in this respect, it is noteworthy that the Russians who feels called to the artistic production almost always show a trend of view of epic composition\"\n",
    "input_doc_name = \"input_string_name\"\n",
    "source_doc = \"Though somehwat surprised at his request, the Irish cheftains immediately complied with it, and the young men were slain.\"\n",
    "# source_doc = \"respect noteworthy that the Russians who feels called to the artistic production almost always show trend\"\n",
    "source_doc_name = \"source_string_name\"\n",
    "\n",
    "input_text_lst = get_preprocessed_sent(input_doc)\n",
    "direct_output, match_lst = get_matching_texts(input_text_lst, source_doc, source_doc_name)\n",
    "\n",
    "nonmatch_lst = get_non_direct_texts(input_text_lst, match_lst)\n",
    "sentence_trans_model = load_model(sentbert_model_name)\n",
    "paraphrase_output = get_paraphrase_predictions(sentence_trans_model, nonmatch_lst, source_doc, source_doc_name, 0.7)\n",
    "paraphrase_output"
   ]
  },
  {
   "cell_type": "code",
   "execution_count": 2,
   "metadata": {},
   "outputs": [
    {
     "name": "stderr",
     "output_type": "stream",
     "text": [
      "/Users/elicialow/Desktop/BT4103/github/plagiarism-detector/app/compiled_functions.py:501: FutureWarning: The frame.append method is deprecated and will be removed from pandas in a future version. Use pandas.concat instead.\n",
      "  new_training_df = training_df.append(new_data, ignore_index=True)\n"
     ]
    },
    {
     "data": {
      "text/plain": [
       "''"
      ]
     },
     "execution_count": 2,
     "metadata": {},
     "output_type": "execute_result"
    }
   ],
   "source": [
    "input_doc = \"Although somewhat surprised at his request, met with immediate Irish chefs he and young people were killed.\"\n",
    "\n",
    "s3_bucket = 'nus-sambaash-data'\n",
    "s3_training_data_filepath = 'plagiarism-detector/webis_db.csv'\n",
    "\n",
    "new_data = {\n",
    "    \"file_num\": \"test_input\",\n",
    "    \"text\": input_doc\n",
    "}\n",
    "add_input_data(new_data, s3_bucket, s3_training_data_filepath)\n",
    "# s3://nus-sambaash-data/plagiarism-detector/webis_db.csv"
   ]
  },
  {
   "cell_type": "code",
   "execution_count": 1,
   "metadata": {},
   "outputs": [
    {
     "name": "stdout",
     "output_type": "stream",
     "text": [
      "Loading function\n"
     ]
    }
   ],
   "source": [
    "from plagiarism_detector import lambda_handler"
   ]
  },
  {
   "cell_type": "code",
   "execution_count": 2,
   "metadata": {},
   "outputs": [],
   "source": [
    "events = {\n",
    "  \"source_docs\": [\n",
    "    {\n",
    "      \"source_doc_name\": \"Russian source 1\",\n",
    "      \"source_doc\": \"Anybody who finds pleasure in poetic pains may add the other thirteen; to me such a task would savour of bad luck\"\n",
    "    }\n",
    "  ],\n",
    "  \"input_doc\": \"Anyone who finds pleasure in poetic pains, the other thirteen add a task would be to me that the taste of bad luck\",\n",
    "  \"input_doc_name\": \"input_string_name\",\n",
    "  \"matching_type\": \"1-1\"\n",
    "}"
   ]
  },
  {
   "cell_type": "code",
   "execution_count": 3,
   "metadata": {},
   "outputs": [
    {
     "name": "stderr",
     "output_type": "stream",
     "text": [
      "/Users/elicialow/Desktop/BT4103/github/plagiarism-detector/lambda_venv/lib/python3.8/site-packages/tqdm/auto.py:21: TqdmWarning: IProgress not found. Please update jupyter and ipywidgets. See https://ipywidgets.readthedocs.io/en/stable/user_install.html\n",
      "  from .autonotebook import tqdm as notebook_tqdm\n",
      "/Users/elicialow/Desktop/BT4103/github/plagiarism-detector/app/compiled_functions.py:538: FutureWarning: The frame.append method is deprecated and will be removed from pandas in a future version. Use pandas.concat instead.\n",
      "  training_df = training_df.append(data, ignore_index=True)\n",
      "/Users/elicialow/Desktop/BT4103/github/plagiarism-detector/app/compiled_functions.py:544: FutureWarning: The frame.append method is deprecated and will be removed from pandas in a future version. Use pandas.concat instead.\n",
      "  training_df = training_df.append(data, ignore_index=True)\n"
     ]
    },
    {
     "data": {
      "text/plain": [
       "{'statusCode': 200,\n",
       " 'success': True,\n",
       " 'body': [{'input_doc_name': 'input_string_name',\n",
       "   'plagiarism_flag': '0',\n",
       "   'plagiarism_score': 0.3540011421643601,\n",
       "   'plagiarised_text': [{'sentence': 'Anyone who finds pleasure in poetic pains, the other thirteen add a task would be to me that the taste of bad luck',\n",
       "     'start_char_index': 1,\n",
       "     'end_char_index': 114,\n",
       "     'source_sentence': 'Anybody who finds pleasure in poetic pains may add the other thirteen; to me such a task would savour of bad luck',\n",
       "     'source_doc_name': 'Russian source 1',\n",
       "     'score': 0.8686222434043884}]}]}"
      ]
     },
     "execution_count": 3,
     "metadata": {},
     "output_type": "execute_result"
    }
   ],
   "source": [
    "lambda_handler(events, context='')"
   ]
  },
  {
   "cell_type": "code",
   "execution_count": 4,
   "metadata": {},
   "outputs": [],
   "source": [
    "from sentence_transformers import SentenceTransformer\n",
    "model = SentenceTransformer('models/trained_bert_model.h5')"
   ]
  },
  {
   "cell_type": "code",
   "execution_count": 4,
   "metadata": {},
   "outputs": [],
   "source": [
    "from compiled_functions import *"
   ]
  },
  {
   "cell_type": "code",
   "execution_count": 8,
   "metadata": {},
   "outputs": [],
   "source": [
    "input_doc = \"The castle is still so far perfect that the lower part is inhabited by a farmer's family; from the windows of the castle four others are visible, none of them more than two miles from each other; and a very large cromlech is within a few yards of the castle ditch. Though somewhat surprised at his request, the Irish chieftains immediately complied with it, and the young men were slain. Then the old warrior exclaimed, \\\"Fools, I saw that your threats and your promises were beginning to influence my sons; for they were but boys, and might have yielded: but now the secret is safe, your threats or your promises have no effect on me!\\\"\"\n",
    "input_doc_name = \"input_file_4481\"\n",
    "source_docs = [\n",
    "    {\n",
    "        \"source_doc_name\": \"source_file_4481\",\n",
    "        \"source_doc\": \"Castle is still as perfect as the bottom is inhabited by a farmer family, and in some rooms above are still remaining heavy smoke, pieces of gray limestone, a very modern form, horizontal sections are decorated with a quatrefoil ornament engraved in a circle, but no data or flags: the other four windows of the castle are visible, none of them more than two miles from each other, and a large cromlech is a few yards from the castle moat. The following legend is related to the castle. Although somewhat surprised at his request, met with immediate Irish chiefs he and young people were killed. Then old warrior exclaimed: \\\"I saw crazy, Your threats and promises That you began to influence my children, for they were but boys, and should be given: but now the secret is safe, your threats or promises have no effect on me!\\\"\"\n",
    "    }\n",
    "    ]\n",
    "source_doc = source_docs[0]['source_doc']\n",
    "source_doc_name = source_docs[0]['source_doc_name']"
   ]
  },
  {
   "cell_type": "code",
   "execution_count": 39,
   "metadata": {},
   "outputs": [],
   "source": [
    "input_text_lst = get_preprocessed_sent(input_doc)\n",
    "direct_output, match_lst = get_matching_texts(input_text_lst, source_doc, source_doc_name)\n",
    "\n",
    "nonmatch_lst = get_non_direct_texts(input_text_lst, match_lst)\n",
    "sentence_trans_model = load_model(sentbert_model_name)\n",
    "paraphrase_output = get_paraphrase_predictions(sentence_trans_model, nonmatch_lst, source_doc, source_doc_name, 0.7)\n",
    "plagiarised_text = direct_output + paraphrase_output\n",
    "plagiarised_text = sorted(plagiarised_text, key=lambda d: d['start_char_index'])\n",
    "\n",
    "new_direct_output, new_paraphrase_output = modified_output_lists(direct_output, paraphrase_output, 0.95)\n",
    "\n",
    "direct_avg_score = get_avg_score(input_text_lst, new_direct_output)\n",
    "paraphrase_avg_score = get_avg_score(input_text_lst, new_paraphrase_output)\n",
    "\n",
    "containment_scores = get_containment_scores(input_doc, source_doc, ngrams_lst)\n",
    "lcm_score = get_lcm_score(input_doc, source_doc)\n",
    "\n",
    "feature_df = get_feature_dict(containment_scores, lcm_score, direct_avg_score, paraphrase_avg_score)\n",
    "\n",
    "plagiarism_flag, plagiarism_score = get_flag_score_prediction(final_model_name, feature_df)"
   ]
  },
  {
   "cell_type": "code",
   "execution_count": 20,
   "metadata": {},
   "outputs": [
    {
     "data": {
      "text/plain": [
       "[{'sentence': \"The castle is still so far perfect that the lower part is inhabited by a farmer's family; from the windows of the castle four others are visible, none of them more than two miles from each other; and a very large cromlech is within a few yards of the castle ditch\",\n",
       "  'start_char_index': 1,\n",
       "  'end_char_index': 263},\n",
       " {'sentence': 'Though somewhat surprised at his request, the Irish chieftains immediately complied with it, and the young men were slain',\n",
       "  'start_char_index': 264,\n",
       "  'end_char_index': 384},\n",
       " {'sentence': 'Then the old warrior exclaimed, \"Fools, I saw that your threats and your promises were beginning to influence my sons; for they were but boys, and might have yielded: but now the secret is safe, your threats or your promises have no effect on me',\n",
       "  'start_char_index': 385,\n",
       "  'end_char_index': 629}]"
      ]
     },
     "execution_count": 20,
     "metadata": {},
     "output_type": "execute_result"
    }
   ],
   "source": [
    "input_text_lst"
   ]
  },
  {
   "cell_type": "code",
   "execution_count": 22,
   "metadata": {},
   "outputs": [
    {
     "data": {
      "text/plain": [
       "[{'sentence': \"The castle is still so far perfect that the lower part is inhabited by a farmer's family; from the windows of the castle four others are visible, none of them more than two miles from each other; and a very large cromlech is within a few yards of the castle ditch\",\n",
       "  'start_char_index': 1,\n",
       "  'end_char_index': 263,\n",
       "  'source_sentence': 'others are visible, none of them more than two miles from each other; and a very large cromlech within',\n",
       "  'source_doc_name': 'source_file_4481',\n",
       "  'score': 0.7532444928234143}]"
      ]
     },
     "execution_count": 22,
     "metadata": {},
     "output_type": "execute_result"
    }
   ],
   "source": [
    "direct_output"
   ]
  },
  {
   "cell_type": "code",
   "execution_count": 24,
   "metadata": {},
   "outputs": [
    {
     "data": {
      "text/plain": [
       "[{'sentence': 'Though somewhat surprised at his request, the Irish chieftains immediately complied with it, and the young men were slain',\n",
       "  'start_char_index': 264,\n",
       "  'end_char_index': 384},\n",
       " {'sentence': 'Then the old warrior exclaimed, \"Fools, I saw that your threats and your promises were beginning to influence my sons; for they were but boys, and might have yielded: but now the secret is safe, your threats or your promises have no effect on me',\n",
       "  'start_char_index': 385,\n",
       "  'end_char_index': 629}]"
      ]
     },
     "execution_count": 24,
     "metadata": {},
     "output_type": "execute_result"
    }
   ],
   "source": [
    "nonmatch_lst"
   ]
  },
  {
   "cell_type": "code",
   "execution_count": 26,
   "metadata": {},
   "outputs": [
    {
     "data": {
      "text/plain": [
       "[{'sentence': 'Though somewhat surprised at his request, the Irish chieftains immediately complied with it, and the young men were slain',\n",
       "  'start_char_index': 264,\n",
       "  'end_char_index': 384,\n",
       "  'source_sentence': 'Although somewhat surprised at his request, met with immediate Irish chiefs he and young people were killed',\n",
       "  'source_doc_name': 'source_file_4481',\n",
       "  'score': 0.769335150718689},\n",
       " {'sentence': 'Then the old warrior exclaimed, \"Fools, I saw that your threats and your promises were beginning to influence my sons; for they were but boys, and might have yielded: but now the secret is safe, your threats or your promises have no effect on me',\n",
       "  'start_char_index': 385,\n",
       "  'end_char_index': 629,\n",
       "  'source_sentence': 'Then old warrior exclaimed: \"I saw crazy, Your threats and promises That you began to influence my children, for they were but boys, and should be given: but now the secret is safe, your threats or promises have no effect on me',\n",
       "  'source_doc_name': 'source_file_4481',\n",
       "  'score': 0.9587375521659851}]"
      ]
     },
     "execution_count": 26,
     "metadata": {},
     "output_type": "execute_result"
    }
   ],
   "source": [
    "paraphrase_output"
   ]
  },
  {
   "cell_type": "code",
   "execution_count": 42,
   "metadata": {},
   "outputs": [
    {
     "data": {
      "text/plain": [
       "[{'sentence': \"The castle is still so far perfect that the lower part is inhabited by a farmer's family; from the windows of the castle four others are visible, none of them more than two miles from each other; and a very large cromlech is within a few yards of the castle ditch\",\n",
       "  'start_char_index': 1,\n",
       "  'end_char_index': 263,\n",
       "  'source_sentence': 'others are visible, none of them more than two miles from each other; and a very large cromlech within',\n",
       "  'source_doc_name': 'source_file_4481',\n",
       "  'score': 0.7532444928234143},\n",
       " {'sentence': 'Though somewhat surprised at his request, the Irish chieftains immediately complied with it, and the young men were slain',\n",
       "  'start_char_index': 264,\n",
       "  'end_char_index': 384,\n",
       "  'source_sentence': 'Although somewhat surprised at his request, met with immediate Irish chiefs he and young people were killed',\n",
       "  'source_doc_name': 'source_file_4481',\n",
       "  'score': 0.769335150718689},\n",
       " {'sentence': 'Then the old warrior exclaimed, \"Fools, I saw that your threats and your promises were beginning to influence my sons; for they were but boys, and might have yielded: but now the secret is safe, your threats or your promises have no effect on me',\n",
       "  'start_char_index': 385,\n",
       "  'end_char_index': 629,\n",
       "  'source_sentence': 'Then old warrior exclaimed: \"I saw crazy, Your threats and promises That you began to influence my children, for they were but boys, and should be given: but now the secret is safe, your threats or promises have no effect on me',\n",
       "  'source_doc_name': 'source_file_4481',\n",
       "  'score': 0.9587375521659851}]"
      ]
     },
     "execution_count": 42,
     "metadata": {},
     "output_type": "execute_result"
    }
   ],
   "source": [
    "plagiarised_text"
   ]
  },
  {
   "cell_type": "code",
   "execution_count": 29,
   "metadata": {},
   "outputs": [
    {
     "data": {
      "text/plain": [
       "0.5706606816631331"
      ]
     },
     "execution_count": 29,
     "metadata": {},
     "output_type": "execute_result"
    }
   ],
   "source": [
    "direct_avg_score"
   ]
  },
  {
   "cell_type": "code",
   "execution_count": 30,
   "metadata": {},
   "outputs": [
    {
     "data": {
      "text/plain": [
       "0.256445050239563"
      ]
     },
     "execution_count": 30,
     "metadata": {},
     "output_type": "execute_result"
    }
   ],
   "source": [
    "paraphrase_avg_score"
   ]
  },
  {
   "cell_type": "code",
   "execution_count": 37,
   "metadata": {},
   "outputs": [
    {
     "data": {
      "text/plain": [
       "{'c_1': 0.7657657657657657, 'c_4': 0.25, 'c_5': 0.18691588785046728}"
      ]
     },
     "execution_count": 37,
     "metadata": {},
     "output_type": "execute_result"
    }
   ],
   "source": [
    "containment_scores"
   ]
  },
  {
   "cell_type": "code",
   "execution_count": 38,
   "metadata": {},
   "outputs": [
    {
     "data": {
      "text/plain": [
       "0.04"
      ]
     },
     "execution_count": 38,
     "metadata": {},
     "output_type": "execute_result"
    }
   ],
   "source": [
    "lcm_score"
   ]
  },
  {
   "cell_type": "code",
   "execution_count": 40,
   "metadata": {},
   "outputs": [
    {
     "data": {
      "text/plain": [
       "0"
      ]
     },
     "execution_count": 40,
     "metadata": {},
     "output_type": "execute_result"
    }
   ],
   "source": [
    "plagiarism_flag"
   ]
  },
  {
   "cell_type": "code",
   "execution_count": 41,
   "metadata": {},
   "outputs": [
    {
     "data": {
      "text/plain": [
       "0.3966290365033661"
      ]
     },
     "execution_count": 41,
     "metadata": {},
     "output_type": "execute_result"
    }
   ],
   "source": [
    "plagiarism_score"
   ]
  },
  {
   "cell_type": "code",
   "execution_count": null,
   "metadata": {},
   "outputs": [],
   "source": []
  }
 ],
 "metadata": {
  "kernelspec": {
   "display_name": "lambda_venv",
   "language": "python",
   "name": "python3"
  },
  "language_info": {
   "codemirror_mode": {
    "name": "ipython",
    "version": 3
   },
   "file_extension": ".py",
   "mimetype": "text/x-python",
   "name": "python",
   "nbconvert_exporter": "python",
   "pygments_lexer": "ipython3",
   "version": "3.8.9"
  },
  "orig_nbformat": 4
 },
 "nbformat": 4,
 "nbformat_minor": 2
}
